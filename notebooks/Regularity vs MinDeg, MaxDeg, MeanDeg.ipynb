{
 "cells": [
  {
   "cell_type": "code",
   "execution_count": 62,
   "metadata": {},
   "outputs": [],
   "source": [
    "import numpy as np\n",
    "import pandas as pd\n",
    "from sklearn.linear_model import LinearRegression"
   ]
  },
  {
   "cell_type": "code",
   "execution_count": 230,
   "metadata": {},
   "outputs": [],
   "source": [
    "X = np.load(\"/Users/urosmojsilovic/Desktop/ToricIdeals/6-0-10-8/toric-6-0-10-8.npy\", allow_pickle = True)"
   ]
  },
  {
   "cell_type": "code",
   "execution_count": 206,
   "metadata": {},
   "outputs": [],
   "source": [
    "dylansdata0 = pd.read_csv(\"/Users/urosmojsilovic/Desktop/ToricIdeals/6-0-10-8/toric-6-0-10-8_stats.csv\")"
   ]
  },
  {
   "cell_type": "code",
   "execution_count": 211,
   "metadata": {},
   "outputs": [],
   "source": [
    "arr12 = []\n",
    "arr13 = []\n",
    "arr14 = []\n",
    "for i in X:\n",
    "    for j in i:\n",
    "        a = j[0] + j[1] + j[2] + j[3] + j[4] + j[5] + j[6] + j[7]\n",
    "        b = j[8] + j[9] + j[10] + j[11] + j[12] + j[13] + j[14] + j[15]\n",
    "        arr12.append(a)\n",
    "        arr12.append(b)\n",
    "        arr13.append(np.array(arr12))\n",
    "        arr12 = []\n",
    "    arr14.append(np.array(arr13))\n",
    "    arr13 = []"
   ]
  },
  {
   "cell_type": "code",
   "execution_count": 212,
   "metadata": {},
   "outputs": [],
   "source": [
    "arr15 = []\n",
    "arr16 = []\n",
    "for i in arr14:\n",
    "    for j in i:\n",
    "        arr15.append(j[0])\n",
    "    arr16.append(np.array(arr15))\n",
    "    arr15 = []"
   ]
  },
  {
   "cell_type": "code",
   "execution_count": 213,
   "metadata": {},
   "outputs": [],
   "source": [
    "arr17 = []\n",
    "for i in arr16: \n",
    "    arr17.append(np.mean(i))"
   ]
  },
  {
   "cell_type": "code",
   "execution_count": 214,
   "metadata": {},
   "outputs": [],
   "source": [
    "arr18 = []\n",
    "for i in arr16:\n",
    "    arr18.append(np.amin(i))"
   ]
  },
  {
   "cell_type": "code",
   "execution_count": 215,
   "metadata": {},
   "outputs": [],
   "source": [
    "arr11 = []\n",
    "for i in arr16:\n",
    "    arr11.append(np.amax(i))\n",
    "            "
   ]
  },
  {
   "cell_type": "code",
   "execution_count": 216,
   "metadata": {},
   "outputs": [],
   "source": [
    "dylansdata0[\"MinDeg\"] = arr18"
   ]
  },
  {
   "cell_type": "code",
   "execution_count": 217,
   "metadata": {},
   "outputs": [],
   "source": [
    "dylansdata0[\"MaxDeg\"] = arr11"
   ]
  },
  {
   "cell_type": "code",
   "execution_count": 218,
   "metadata": {},
   "outputs": [],
   "source": [
    "dylansdata0[\"MeanDeg\"] = arr17"
   ]
  },
  {
   "cell_type": "code",
   "execution_count": 116,
   "metadata": {},
   "outputs": [],
   "source": [
    "import statsmodels.api as sm\n",
    "#Multiple linear regression on the sample data, and we pull coefficients \n",
    "X = dylansdata0[[\"MaxDeg\", \"MinDeg\", \"MeanDeg\"]]\n",
    "Y = dylansdata0[\"Regularity\"]\n",
    "X  = sm.add_constant(X)\n",
    "\n",
    "model = sm.OLS(Y, X)\n",
    "results = model.fit()"
   ]
  },
  {
   "cell_type": "code",
   "execution_count": 117,
   "metadata": {},
   "outputs": [
    {
     "data": {
      "text/html": [
       "<table class=\"simpletable\">\n",
       "<caption>OLS Regression Results</caption>\n",
       "<tr>\n",
       "  <th>Dep. Variable:</th>       <td>Regularity</td>    <th>  R-squared:         </th>  <td>   0.819</td>  \n",
       "</tr>\n",
       "<tr>\n",
       "  <th>Model:</th>                   <td>OLS</td>       <th>  Adj. R-squared:    </th>  <td>   0.819</td>  \n",
       "</tr>\n",
       "<tr>\n",
       "  <th>Method:</th>             <td>Least Squares</td>  <th>  F-statistic:       </th>  <td>2.293e+05</td> \n",
       "</tr>\n",
       "<tr>\n",
       "  <th>Date:</th>             <td>Wed, 31 Mar 2021</td> <th>  Prob (F-statistic):</th>   <td>  0.00</td>   \n",
       "</tr>\n",
       "<tr>\n",
       "  <th>Time:</th>                 <td>22:09:50</td>     <th>  Log-Likelihood:    </th> <td>-1.0630e+06</td>\n",
       "</tr>\n",
       "<tr>\n",
       "  <th>No. Observations:</th>      <td>151532</td>      <th>  AIC:               </th>  <td>2.126e+06</td> \n",
       "</tr>\n",
       "<tr>\n",
       "  <th>Df Residuals:</th>          <td>151528</td>      <th>  BIC:               </th>  <td>2.126e+06</td> \n",
       "</tr>\n",
       "<tr>\n",
       "  <th>Df Model:</th>              <td>     3</td>      <th>                     </th>      <td> </td>     \n",
       "</tr>\n",
       "<tr>\n",
       "  <th>Covariance Type:</th>      <td>nonrobust</td>    <th>                     </th>      <td> </td>     \n",
       "</tr>\n",
       "</table>\n",
       "<table class=\"simpletable\">\n",
       "<tr>\n",
       "     <td></td>        <th>coef</th>     <th>std err</th>      <th>t</th>      <th>P>|t|</th>  <th>[0.025</th>    <th>0.975]</th>  \n",
       "</tr>\n",
       "<tr>\n",
       "  <th>const</th>   <td>    6.2112</td> <td>    1.353</td> <td>    4.591</td> <td> 0.000</td> <td>    3.559</td> <td>    8.863</td>\n",
       "</tr>\n",
       "<tr>\n",
       "  <th>MaxDeg</th>  <td>    0.8803</td> <td>    0.003</td> <td>  318.965</td> <td> 0.000</td> <td>    0.875</td> <td>    0.886</td>\n",
       "</tr>\n",
       "<tr>\n",
       "  <th>MinDeg</th>  <td>    0.9434</td> <td>    0.024</td> <td>   40.069</td> <td> 0.000</td> <td>    0.897</td> <td>    0.990</td>\n",
       "</tr>\n",
       "<tr>\n",
       "  <th>MeanDeg</th> <td>    0.2746</td> <td>    0.006</td> <td>   45.793</td> <td> 0.000</td> <td>    0.263</td> <td>    0.286</td>\n",
       "</tr>\n",
       "</table>\n",
       "<table class=\"simpletable\">\n",
       "<tr>\n",
       "  <th>Omnibus:</th>       <td>316385.450</td> <th>  Durbin-Watson:     </th>    <td>   1.997</td>   \n",
       "</tr>\n",
       "<tr>\n",
       "  <th>Prob(Omnibus):</th>   <td> 0.000</td>   <th>  Jarque-Bera (JB):  </th> <td>2503160924.732</td>\n",
       "</tr>\n",
       "<tr>\n",
       "  <th>Skew:</th>            <td>17.735</td>   <th>  Prob(JB):          </th>    <td>    0.00</td>   \n",
       "</tr>\n",
       "<tr>\n",
       "  <th>Kurtosis:</th>        <td>631.648</td>  <th>  Cond. No.          </th>    <td>1.56e+03</td>   \n",
       "</tr>\n",
       "</table><br/><br/>Warnings:<br/>[1] Standard Errors assume that the covariance matrix of the errors is correctly specified.<br/>[2] The condition number is large, 1.56e+03. This might indicate that there are<br/>strong multicollinearity or other numerical problems."
      ],
      "text/plain": [
       "<class 'statsmodels.iolib.summary.Summary'>\n",
       "\"\"\"\n",
       "                            OLS Regression Results                            \n",
       "==============================================================================\n",
       "Dep. Variable:             Regularity   R-squared:                       0.819\n",
       "Model:                            OLS   Adj. R-squared:                  0.819\n",
       "Method:                 Least Squares   F-statistic:                 2.293e+05\n",
       "Date:                Wed, 31 Mar 2021   Prob (F-statistic):               0.00\n",
       "Time:                        22:09:50   Log-Likelihood:            -1.0630e+06\n",
       "No. Observations:              151532   AIC:                         2.126e+06\n",
       "Df Residuals:                  151528   BIC:                         2.126e+06\n",
       "Df Model:                           3                                         \n",
       "Covariance Type:            nonrobust                                         \n",
       "==============================================================================\n",
       "                 coef    std err          t      P>|t|      [0.025      0.975]\n",
       "------------------------------------------------------------------------------\n",
       "const          6.2112      1.353      4.591      0.000       3.559       8.863\n",
       "MaxDeg         0.8803      0.003    318.965      0.000       0.875       0.886\n",
       "MinDeg         0.9434      0.024     40.069      0.000       0.897       0.990\n",
       "MeanDeg        0.2746      0.006     45.793      0.000       0.263       0.286\n",
       "==============================================================================\n",
       "Omnibus:                   316385.450   Durbin-Watson:                   1.997\n",
       "Prob(Omnibus):                  0.000   Jarque-Bera (JB):       2503160924.732\n",
       "Skew:                          17.735   Prob(JB):                         0.00\n",
       "Kurtosis:                     631.648   Cond. No.                     1.56e+03\n",
       "==============================================================================\n",
       "\n",
       "Warnings:\n",
       "[1] Standard Errors assume that the covariance matrix of the errors is correctly specified.\n",
       "[2] The condition number is large, 1.56e+03. This might indicate that there are\n",
       "strong multicollinearity or other numerical problems.\n",
       "\"\"\""
      ]
     },
     "execution_count": 117,
     "metadata": {},
     "output_type": "execute_result"
    }
   ],
   "source": [
    "results.summary()"
   ]
  },
  {
   "cell_type": "code",
   "execution_count": 219,
   "metadata": {},
   "outputs": [],
   "source": [
    "dylansdata00 = pd.read_csv(\"/Users/urosmojsilovic/Desktop/ToricIdeals/6-0-10-8/toric-6-0-10-8_degree.csv\")"
   ]
  },
  {
   "cell_type": "code",
   "execution_count": 220,
   "metadata": {},
   "outputs": [],
   "source": [
    "d = dylansdata00.join(dylansdata0)"
   ]
  },
  {
   "cell_type": "code",
   "execution_count": 231,
   "metadata": {},
   "outputs": [],
   "source": [
    "arr = []\n",
    "for i in X:\n",
    "    arr.append(len(i))"
   ]
  },
  {
   "cell_type": "code",
   "execution_count": 232,
   "metadata": {},
   "outputs": [],
   "source": [
    "d[\"NumGens\"] = arr"
   ]
  },
  {
   "cell_type": "code",
   "execution_count": 233,
   "metadata": {},
   "outputs": [
    {
     "data": {
      "text/html": [
       "<div>\n",
       "<style scoped>\n",
       "    .dataframe tbody tr th:only-of-type {\n",
       "        vertical-align: middle;\n",
       "    }\n",
       "\n",
       "    .dataframe tbody tr th {\n",
       "        vertical-align: top;\n",
       "    }\n",
       "\n",
       "    .dataframe thead th {\n",
       "        text-align: right;\n",
       "    }\n",
       "</style>\n",
       "<table border=\"1\" class=\"dataframe\">\n",
       "  <thead>\n",
       "    <tr style=\"text-align: right;\">\n",
       "      <th></th>\n",
       "      <th>ZeroReductions</th>\n",
       "      <th>NonzeroReductions</th>\n",
       "      <th>PolynomialAdditions</th>\n",
       "      <th>GroebnerBasis</th>\n",
       "      <th>SizeGroebnerBasis</th>\n",
       "      <th>MaxDegreeGroebnerBasis</th>\n",
       "      <th>Degree</th>\n",
       "      <th>Dimension</th>\n",
       "      <th>Regularity</th>\n",
       "      <th>MinDeg</th>\n",
       "      <th>MaxDeg</th>\n",
       "      <th>MeanDeg</th>\n",
       "      <th>NumGens</th>\n",
       "    </tr>\n",
       "  </thead>\n",
       "  <tbody>\n",
       "    <tr>\n",
       "      <th>0</th>\n",
       "      <td>13</td>\n",
       "      <td>1</td>\n",
       "      <td>27</td>\n",
       "      <td>c^47*e^65*g^2-a^3*b^27*d^15*f^30*h^6|a^12*c^25...</td>\n",
       "      <td>9</td>\n",
       "      <td>462</td>\n",
       "      <td>13200</td>\n",
       "      <td>6</td>\n",
       "      <td>470</td>\n",
       "      <td>114</td>\n",
       "      <td>417</td>\n",
       "      <td>239.125000</td>\n",
       "      <td>8</td>\n",
       "    </tr>\n",
       "    <tr>\n",
       "      <th>1</th>\n",
       "      <td>17</td>\n",
       "      <td>1</td>\n",
       "      <td>35</td>\n",
       "      <td>a^28*c^20*g^32*h^9-b^4*d^24*e^21*f^34|b^51*c^7...</td>\n",
       "      <td>11</td>\n",
       "      <td>480</td>\n",
       "      <td>11166</td>\n",
       "      <td>6</td>\n",
       "      <td>485</td>\n",
       "      <td>89</td>\n",
       "      <td>480</td>\n",
       "      <td>255.000000</td>\n",
       "      <td>10</td>\n",
       "    </tr>\n",
       "    <tr>\n",
       "      <th>2</th>\n",
       "      <td>22</td>\n",
       "      <td>12</td>\n",
       "      <td>56</td>\n",
       "      <td>a^3*b^3*c^2*f^23-e*h^26|a^38*b^18*e^69*g-c^8*d...</td>\n",
       "      <td>19</td>\n",
       "      <td>407</td>\n",
       "      <td>3586</td>\n",
       "      <td>6</td>\n",
       "      <td>411</td>\n",
       "      <td>31</td>\n",
       "      <td>234</td>\n",
       "      <td>151.142857</td>\n",
       "      <td>7</td>\n",
       "    </tr>\n",
       "    <tr>\n",
       "      <th>3</th>\n",
       "      <td>104</td>\n",
       "      <td>10</td>\n",
       "      <td>218</td>\n",
       "      <td>c^2*d^17*e^2*g-b^12*f*h^7|c^168*f^44-a^46*b^35...</td>\n",
       "      <td>59</td>\n",
       "      <td>1067</td>\n",
       "      <td>4469</td>\n",
       "      <td>6</td>\n",
       "      <td>1067</td>\n",
       "      <td>22</td>\n",
       "      <td>1067</td>\n",
       "      <td>593.265306</td>\n",
       "      <td>49</td>\n",
       "    </tr>\n",
       "    <tr>\n",
       "      <th>4</th>\n",
       "      <td>20</td>\n",
       "      <td>0</td>\n",
       "      <td>40</td>\n",
       "      <td>a^51*d^32*g^24-b^10*c^18*e^13*f^38*h^8|a^11*c^...</td>\n",
       "      <td>12</td>\n",
       "      <td>1043</td>\n",
       "      <td>9365</td>\n",
       "      <td>6</td>\n",
       "      <td>1046</td>\n",
       "      <td>107</td>\n",
       "      <td>1043</td>\n",
       "      <td>333.166667</td>\n",
       "      <td>12</td>\n",
       "    </tr>\n",
       "  </tbody>\n",
       "</table>\n",
       "</div>"
      ],
      "text/plain": [
       "   ZeroReductions  NonzeroReductions  PolynomialAdditions  \\\n",
       "0              13                  1                   27   \n",
       "1              17                  1                   35   \n",
       "2              22                 12                   56   \n",
       "3             104                 10                  218   \n",
       "4              20                  0                   40   \n",
       "\n",
       "                                       GroebnerBasis  SizeGroebnerBasis  \\\n",
       "0  c^47*e^65*g^2-a^3*b^27*d^15*f^30*h^6|a^12*c^25...                  9   \n",
       "1  a^28*c^20*g^32*h^9-b^4*d^24*e^21*f^34|b^51*c^7...                 11   \n",
       "2  a^3*b^3*c^2*f^23-e*h^26|a^38*b^18*e^69*g-c^8*d...                 19   \n",
       "3  c^2*d^17*e^2*g-b^12*f*h^7|c^168*f^44-a^46*b^35...                 59   \n",
       "4  a^51*d^32*g^24-b^10*c^18*e^13*f^38*h^8|a^11*c^...                 12   \n",
       "\n",
       "   MaxDegreeGroebnerBasis  Degree  Dimension  Regularity  MinDeg  MaxDeg  \\\n",
       "0                     462   13200          6         470     114     417   \n",
       "1                     480   11166          6         485      89     480   \n",
       "2                     407    3586          6         411      31     234   \n",
       "3                    1067    4469          6        1067      22    1067   \n",
       "4                    1043    9365          6        1046     107    1043   \n",
       "\n",
       "      MeanDeg  NumGens  \n",
       "0  239.125000        8  \n",
       "1  255.000000       10  \n",
       "2  151.142857        7  \n",
       "3  593.265306       49  \n",
       "4  333.166667       12  "
      ]
     },
     "execution_count": 233,
     "metadata": {},
     "output_type": "execute_result"
    }
   ],
   "source": [
    "d.head()"
   ]
  },
  {
   "cell_type": "code",
   "execution_count": 234,
   "metadata": {},
   "outputs": [],
   "source": [
    "import statsmodels.api as sm\n",
    "#Multiple linear regression on the sample data, and we pull coefficients \n",
    "X = d[[\"MaxDeg\", \"MinDeg\", \"MeanDeg\", \"NumGens\"]]\n",
    "Y = d[\"PolynomialAdditions\"]\n",
    "X  = sm.add_constant(X)\n",
    "\n",
    "model = sm.OLS(Y, X)\n",
    "results = model.fit()"
   ]
  },
  {
   "cell_type": "code",
   "execution_count": 235,
   "metadata": {},
   "outputs": [
    {
     "data": {
      "text/html": [
       "<table class=\"simpletable\">\n",
       "<caption>OLS Regression Results</caption>\n",
       "<tr>\n",
       "  <th>Dep. Variable:</th>    <td>PolynomialAdditions</td> <th>  R-squared:         </th>  <td>   0.857</td>  \n",
       "</tr>\n",
       "<tr>\n",
       "  <th>Model:</th>                    <td>OLS</td>         <th>  Adj. R-squared:    </th>  <td>   0.857</td>  \n",
       "</tr>\n",
       "<tr>\n",
       "  <th>Method:</th>              <td>Least Squares</td>    <th>  F-statistic:       </th>  <td>2.279e+05</td> \n",
       "</tr>\n",
       "<tr>\n",
       "  <th>Date:</th>              <td>Wed, 31 Mar 2021</td>   <th>  Prob (F-statistic):</th>   <td>  0.00</td>   \n",
       "</tr>\n",
       "<tr>\n",
       "  <th>Time:</th>                  <td>22:44:27</td>       <th>  Log-Likelihood:    </th> <td>-8.6217e+05</td>\n",
       "</tr>\n",
       "<tr>\n",
       "  <th>No. Observations:</th>       <td>151532</td>        <th>  AIC:               </th>  <td>1.724e+06</td> \n",
       "</tr>\n",
       "<tr>\n",
       "  <th>Df Residuals:</th>           <td>151527</td>        <th>  BIC:               </th>  <td>1.724e+06</td> \n",
       "</tr>\n",
       "<tr>\n",
       "  <th>Df Model:</th>               <td>     4</td>        <th>                     </th>      <td> </td>     \n",
       "</tr>\n",
       "<tr>\n",
       "  <th>Covariance Type:</th>       <td>nonrobust</td>      <th>                     </th>      <td> </td>     \n",
       "</tr>\n",
       "</table>\n",
       "<table class=\"simpletable\">\n",
       "<tr>\n",
       "     <td></td>        <th>coef</th>     <th>std err</th>      <th>t</th>      <th>P>|t|</th>  <th>[0.025</th>    <th>0.975]</th>  \n",
       "</tr>\n",
       "<tr>\n",
       "  <th>const</th>   <td>   -3.1728</td> <td>    0.363</td> <td>   -8.748</td> <td> 0.000</td> <td>   -3.884</td> <td>   -2.462</td>\n",
       "</tr>\n",
       "<tr>\n",
       "  <th>MaxDeg</th>  <td>   -0.0308</td> <td>    0.001</td> <td>  -38.585</td> <td> 0.000</td> <td>   -0.032</td> <td>   -0.029</td>\n",
       "</tr>\n",
       "<tr>\n",
       "  <th>MinDeg</th>  <td>   -0.1612</td> <td>    0.007</td> <td>  -24.469</td> <td> 0.000</td> <td>   -0.174</td> <td>   -0.148</td>\n",
       "</tr>\n",
       "<tr>\n",
       "  <th>MeanDeg</th> <td>    0.0974</td> <td>    0.002</td> <td>   46.221</td> <td> 0.000</td> <td>    0.093</td> <td>    0.102</td>\n",
       "</tr>\n",
       "<tr>\n",
       "  <th>NumGens</th> <td>    4.2790</td> <td>    0.007</td> <td>  589.277</td> <td> 0.000</td> <td>    4.265</td> <td>    4.293</td>\n",
       "</tr>\n",
       "</table>\n",
       "<table class=\"simpletable\">\n",
       "<tr>\n",
       "  <th>Omnibus:</th>       <td>421455.503</td> <th>  Durbin-Watson:     </th>    <td>   2.003</td>    \n",
       "</tr>\n",
       "<tr>\n",
       "  <th>Prob(Omnibus):</th>   <td> 0.000</td>   <th>  Jarque-Bera (JB):  </th> <td>39418415842.969</td>\n",
       "</tr>\n",
       "<tr>\n",
       "  <th>Skew:</th>            <td>35.570</td>   <th>  Prob(JB):          </th>    <td>    0.00</td>    \n",
       "</tr>\n",
       "<tr>\n",
       "  <th>Kurtosis:</th>       <td>2500.623</td>  <th>  Cond. No.          </th>    <td>1.57e+03</td>    \n",
       "</tr>\n",
       "</table><br/><br/>Warnings:<br/>[1] Standard Errors assume that the covariance matrix of the errors is correctly specified.<br/>[2] The condition number is large, 1.57e+03. This might indicate that there are<br/>strong multicollinearity or other numerical problems."
      ],
      "text/plain": [
       "<class 'statsmodels.iolib.summary.Summary'>\n",
       "\"\"\"\n",
       "                             OLS Regression Results                            \n",
       "===============================================================================\n",
       "Dep. Variable:     PolynomialAdditions   R-squared:                       0.857\n",
       "Model:                             OLS   Adj. R-squared:                  0.857\n",
       "Method:                  Least Squares   F-statistic:                 2.279e+05\n",
       "Date:                 Wed, 31 Mar 2021   Prob (F-statistic):               0.00\n",
       "Time:                         22:44:27   Log-Likelihood:            -8.6217e+05\n",
       "No. Observations:               151532   AIC:                         1.724e+06\n",
       "Df Residuals:                   151527   BIC:                         1.724e+06\n",
       "Df Model:                            4                                         \n",
       "Covariance Type:             nonrobust                                         \n",
       "==============================================================================\n",
       "                 coef    std err          t      P>|t|      [0.025      0.975]\n",
       "------------------------------------------------------------------------------\n",
       "const         -3.1728      0.363     -8.748      0.000      -3.884      -2.462\n",
       "MaxDeg        -0.0308      0.001    -38.585      0.000      -0.032      -0.029\n",
       "MinDeg        -0.1612      0.007    -24.469      0.000      -0.174      -0.148\n",
       "MeanDeg        0.0974      0.002     46.221      0.000       0.093       0.102\n",
       "NumGens        4.2790      0.007    589.277      0.000       4.265       4.293\n",
       "==============================================================================\n",
       "Omnibus:                   421455.503   Durbin-Watson:                   2.003\n",
       "Prob(Omnibus):                  0.000   Jarque-Bera (JB):      39418415842.969\n",
       "Skew:                          35.570   Prob(JB):                         0.00\n",
       "Kurtosis:                    2500.623   Cond. No.                     1.57e+03\n",
       "==============================================================================\n",
       "\n",
       "Warnings:\n",
       "[1] Standard Errors assume that the covariance matrix of the errors is correctly specified.\n",
       "[2] The condition number is large, 1.57e+03. This might indicate that there are\n",
       "strong multicollinearity or other numerical problems.\n",
       "\"\"\""
      ]
     },
     "execution_count": 235,
     "metadata": {},
     "output_type": "execute_result"
    }
   ],
   "source": [
    "results.summary()"
   ]
  },
  {
   "cell_type": "code",
   "execution_count": 223,
   "metadata": {},
   "outputs": [],
   "source": [
    "X = np.load(\"/Users/urosmojsilovic/Desktop/ToricIdeals/6-0-5-8/toric-6-0-5-8.npy\", allow_pickle = True)"
   ]
  },
  {
   "cell_type": "code",
   "execution_count": 209,
   "metadata": {},
   "outputs": [
    {
     "ename": "IndexError",
     "evalue": "string index out of range",
     "output_type": "error",
     "traceback": [
      "\u001b[0;31m---------------------------------------------------------------------------\u001b[0m",
      "\u001b[0;31mIndexError\u001b[0m                                Traceback (most recent call last)",
      "\u001b[0;32m<ipython-input-209-0478babb95d4>\u001b[0m in \u001b[0;36m<module>\u001b[0;34m\u001b[0m\n\u001b[1;32m      4\u001b[0m \u001b[0;32mfor\u001b[0m \u001b[0mi\u001b[0m \u001b[0;32min\u001b[0m \u001b[0mX\u001b[0m\u001b[0;34m:\u001b[0m\u001b[0;34m\u001b[0m\u001b[0;34m\u001b[0m\u001b[0m\n\u001b[1;32m      5\u001b[0m     \u001b[0;32mfor\u001b[0m \u001b[0mj\u001b[0m \u001b[0;32min\u001b[0m \u001b[0mi\u001b[0m\u001b[0;34m:\u001b[0m\u001b[0;34m\u001b[0m\u001b[0;34m\u001b[0m\u001b[0m\n\u001b[0;32m----> 6\u001b[0;31m         \u001b[0ma\u001b[0m \u001b[0;34m=\u001b[0m \u001b[0mj\u001b[0m\u001b[0;34m[\u001b[0m\u001b[0;36m0\u001b[0m\u001b[0;34m]\u001b[0m \u001b[0;34m+\u001b[0m \u001b[0mj\u001b[0m\u001b[0;34m[\u001b[0m\u001b[0;36m1\u001b[0m\u001b[0;34m]\u001b[0m \u001b[0;34m+\u001b[0m \u001b[0mj\u001b[0m\u001b[0;34m[\u001b[0m\u001b[0;36m2\u001b[0m\u001b[0;34m]\u001b[0m \u001b[0;34m+\u001b[0m \u001b[0mj\u001b[0m\u001b[0;34m[\u001b[0m\u001b[0;36m3\u001b[0m\u001b[0;34m]\u001b[0m \u001b[0;34m+\u001b[0m \u001b[0mj\u001b[0m\u001b[0;34m[\u001b[0m\u001b[0;36m4\u001b[0m\u001b[0;34m]\u001b[0m \u001b[0;34m+\u001b[0m \u001b[0mj\u001b[0m\u001b[0;34m[\u001b[0m\u001b[0;36m5\u001b[0m\u001b[0;34m]\u001b[0m \u001b[0;34m+\u001b[0m \u001b[0mj\u001b[0m\u001b[0;34m[\u001b[0m\u001b[0;36m6\u001b[0m\u001b[0;34m]\u001b[0m \u001b[0;34m+\u001b[0m \u001b[0mj\u001b[0m\u001b[0;34m[\u001b[0m\u001b[0;36m7\u001b[0m\u001b[0;34m]\u001b[0m\u001b[0;34m\u001b[0m\u001b[0;34m\u001b[0m\u001b[0m\n\u001b[0m\u001b[1;32m      7\u001b[0m         \u001b[0mb\u001b[0m \u001b[0;34m=\u001b[0m \u001b[0mj\u001b[0m\u001b[0;34m[\u001b[0m\u001b[0;36m8\u001b[0m\u001b[0;34m]\u001b[0m \u001b[0;34m+\u001b[0m \u001b[0mj\u001b[0m\u001b[0;34m[\u001b[0m\u001b[0;36m9\u001b[0m\u001b[0;34m]\u001b[0m \u001b[0;34m+\u001b[0m \u001b[0mj\u001b[0m\u001b[0;34m[\u001b[0m\u001b[0;36m10\u001b[0m\u001b[0;34m]\u001b[0m \u001b[0;34m+\u001b[0m \u001b[0mj\u001b[0m\u001b[0;34m[\u001b[0m\u001b[0;36m11\u001b[0m\u001b[0;34m]\u001b[0m \u001b[0;34m+\u001b[0m \u001b[0mj\u001b[0m\u001b[0;34m[\u001b[0m\u001b[0;36m12\u001b[0m\u001b[0;34m]\u001b[0m \u001b[0;34m+\u001b[0m \u001b[0mj\u001b[0m\u001b[0;34m[\u001b[0m\u001b[0;36m13\u001b[0m\u001b[0;34m]\u001b[0m \u001b[0;34m+\u001b[0m \u001b[0mj\u001b[0m\u001b[0;34m[\u001b[0m\u001b[0;36m14\u001b[0m\u001b[0;34m]\u001b[0m \u001b[0;34m+\u001b[0m \u001b[0mj\u001b[0m\u001b[0;34m[\u001b[0m\u001b[0;36m15\u001b[0m\u001b[0;34m]\u001b[0m\u001b[0;34m\u001b[0m\u001b[0;34m\u001b[0m\u001b[0m\n\u001b[1;32m      8\u001b[0m         \u001b[0marr2\u001b[0m\u001b[0;34m.\u001b[0m\u001b[0mappend\u001b[0m\u001b[0;34m(\u001b[0m\u001b[0ma\u001b[0m\u001b[0;34m)\u001b[0m\u001b[0;34m\u001b[0m\u001b[0;34m\u001b[0m\u001b[0m\n",
      "\u001b[0;31mIndexError\u001b[0m: string index out of range"
     ]
    }
   ],
   "source": [
    "arr2 = []\n",
    "arr3 = []\n",
    "arr4 = []\n",
    "for i in X:\n",
    "    for j in i:\n",
    "        a = j[0] + j[1] + j[2] + j[3] + j[4] + j[5] + j[6] + j[7]\n",
    "        b = j[8] + j[9] + j[10] + j[11] + j[12] + j[13] + j[14] + j[15]\n",
    "        arr2.append(a)\n",
    "        arr2.append(b)\n",
    "        arr3.append(np.array(arr2))\n",
    "        arr2 = []\n",
    "    arr4.append(np.array(arr3))\n",
    "    arr3 = []"
   ]
  },
  {
   "cell_type": "code",
   "execution_count": 27,
   "metadata": {},
   "outputs": [],
   "source": [
    "arr5 = []\n",
    "arr6 = []\n",
    "for i in arr4:\n",
    "    for j in i:\n",
    "        arr5.append(j[0])\n",
    "    arr6.append(np.array(arr5))\n",
    "    arr5 = []"
   ]
  },
  {
   "cell_type": "code",
   "execution_count": 30,
   "metadata": {},
   "outputs": [],
   "source": [
    "arr7 = []\n",
    "for i in arr6: \n",
    "    arr7.append(np.mean(i))"
   ]
  },
  {
   "cell_type": "code",
   "execution_count": 35,
   "metadata": {},
   "outputs": [],
   "source": [
    "arr8 = []\n",
    "for i in arr6:\n",
    "    arr8.append(np.amin(i))"
   ]
  },
  {
   "cell_type": "code",
   "execution_count": 36,
   "metadata": {},
   "outputs": [],
   "source": [
    "arr10 = []\n",
    "for i in arr6:\n",
    "    arr10.append(np.amax(i))\n",
    "            "
   ]
  },
  {
   "cell_type": "code",
   "execution_count": 37,
   "metadata": {},
   "outputs": [],
   "source": [
    "dylansdata = pd.read_csv(\"/Users/urosmojsilovic/Desktop/ToricIdeals/6-0-5-8/toric-6-0-5-8_stats.csv\")"
   ]
  },
  {
   "cell_type": "code",
   "execution_count": 38,
   "metadata": {},
   "outputs": [],
   "source": [
    "dylansdata[\"MinDeg\"] = arr8"
   ]
  },
  {
   "cell_type": "code",
   "execution_count": 39,
   "metadata": {},
   "outputs": [],
   "source": [
    "dylansdata[\"MaxDeg\"] = arr10"
   ]
  },
  {
   "cell_type": "code",
   "execution_count": 40,
   "metadata": {},
   "outputs": [],
   "source": [
    "dylansdata[\"MeanDeg\"] = arr7"
   ]
  },
  {
   "cell_type": "code",
   "execution_count": 44,
   "metadata": {},
   "outputs": [],
   "source": [
    "import statsmodels.api as sm\n",
    "#Multiple linear regression on the sample data, and we pull coefficients \n",
    "X = dylansdata[[\"MaxDeg\", \"MinDeg\", \"MeanDeg\"]]\n",
    "Y = dylansdata[\"Regularity\"]\n",
    "X  = sm.add_constant(X)\n",
    "\n",
    "model = sm.OLS(Y, X)\n",
    "results = model.fit()"
   ]
  },
  {
   "cell_type": "code",
   "execution_count": 91,
   "metadata": {},
   "outputs": [
    {
     "data": {
      "text/html": [
       "<table class=\"simpletable\">\n",
       "<caption>OLS Regression Results</caption>\n",
       "<tr>\n",
       "  <th>Dep. Variable:</th>       <td>Regularity</td>    <th>  R-squared:         </th>  <td>   0.859</td>  \n",
       "</tr>\n",
       "<tr>\n",
       "  <th>Model:</th>                   <td>OLS</td>       <th>  Adj. R-squared:    </th>  <td>   0.859</td>  \n",
       "</tr>\n",
       "<tr>\n",
       "  <th>Method:</th>             <td>Least Squares</td>  <th>  F-statistic:       </th>  <td>6.642e+05</td> \n",
       "</tr>\n",
       "<tr>\n",
       "  <th>Date:</th>             <td>Wed, 31 Mar 2021</td> <th>  Prob (F-statistic):</th>   <td>  0.00</td>   \n",
       "</tr>\n",
       "<tr>\n",
       "  <th>Time:</th>                 <td>22:06:32</td>     <th>  Log-Likelihood:    </th> <td>-1.4032e+06</td>\n",
       "</tr>\n",
       "<tr>\n",
       "  <th>No. Observations:</th>      <td>325927</td>      <th>  AIC:               </th>  <td>2.806e+06</td> \n",
       "</tr>\n",
       "<tr>\n",
       "  <th>Df Residuals:</th>          <td>325923</td>      <th>  BIC:               </th>  <td>2.807e+06</td> \n",
       "</tr>\n",
       "<tr>\n",
       "  <th>Df Model:</th>              <td>     3</td>      <th>                     </th>      <td> </td>     \n",
       "</tr>\n",
       "<tr>\n",
       "  <th>Covariance Type:</th>      <td>nonrobust</td>    <th>                     </th>      <td> </td>     \n",
       "</tr>\n",
       "</table>\n",
       "<table class=\"simpletable\">\n",
       "<tr>\n",
       "     <td></td>        <th>coef</th>     <th>std err</th>      <th>t</th>      <th>P>|t|</th>  <th>[0.025</th>    <th>0.975]</th>  \n",
       "</tr>\n",
       "<tr>\n",
       "  <th>const</th>   <td>   -0.4644</td> <td>    0.064</td> <td>   -7.259</td> <td> 0.000</td> <td>   -0.590</td> <td>   -0.339</td>\n",
       "</tr>\n",
       "<tr>\n",
       "  <th>MaxDeg</th>  <td>    0.7832</td> <td>    0.002</td> <td>  379.531</td> <td> 0.000</td> <td>    0.779</td> <td>    0.787</td>\n",
       "</tr>\n",
       "<tr>\n",
       "  <th>MinDeg</th>  <td>    0.6482</td> <td>    0.007</td> <td>   98.213</td> <td> 0.000</td> <td>    0.635</td> <td>    0.661</td>\n",
       "</tr>\n",
       "<tr>\n",
       "  <th>MeanDeg</th> <td>    0.3968</td> <td>    0.004</td> <td>  109.569</td> <td> 0.000</td> <td>    0.390</td> <td>    0.404</td>\n",
       "</tr>\n",
       "</table>\n",
       "<table class=\"simpletable\">\n",
       "<tr>\n",
       "  <th>Omnibus:</th>       <td>499208.209</td> <th>  Durbin-Watson:     </th>   <td>   2.004</td>   \n",
       "</tr>\n",
       "<tr>\n",
       "  <th>Prob(Omnibus):</th>   <td> 0.000</td>   <th>  Jarque-Bera (JB):  </th> <td>487080844.616</td>\n",
       "</tr>\n",
       "<tr>\n",
       "  <th>Skew:</th>            <td> 9.417</td>   <th>  Prob(JB):          </th>   <td>    0.00</td>   \n",
       "</tr>\n",
       "<tr>\n",
       "  <th>Kurtosis:</th>        <td>191.446</td>  <th>  Cond. No.          </th>   <td>    144.</td>   \n",
       "</tr>\n",
       "</table><br/><br/>Warnings:<br/>[1] Standard Errors assume that the covariance matrix of the errors is correctly specified."
      ],
      "text/plain": [
       "<class 'statsmodels.iolib.summary.Summary'>\n",
       "\"\"\"\n",
       "                            OLS Regression Results                            \n",
       "==============================================================================\n",
       "Dep. Variable:             Regularity   R-squared:                       0.859\n",
       "Model:                            OLS   Adj. R-squared:                  0.859\n",
       "Method:                 Least Squares   F-statistic:                 6.642e+05\n",
       "Date:                Wed, 31 Mar 2021   Prob (F-statistic):               0.00\n",
       "Time:                        22:06:32   Log-Likelihood:            -1.4032e+06\n",
       "No. Observations:              325927   AIC:                         2.806e+06\n",
       "Df Residuals:                  325923   BIC:                         2.807e+06\n",
       "Df Model:                           3                                         \n",
       "Covariance Type:            nonrobust                                         \n",
       "==============================================================================\n",
       "                 coef    std err          t      P>|t|      [0.025      0.975]\n",
       "------------------------------------------------------------------------------\n",
       "const         -0.4644      0.064     -7.259      0.000      -0.590      -0.339\n",
       "MaxDeg         0.7832      0.002    379.531      0.000       0.779       0.787\n",
       "MinDeg         0.6482      0.007     98.213      0.000       0.635       0.661\n",
       "MeanDeg        0.3968      0.004    109.569      0.000       0.390       0.404\n",
       "==============================================================================\n",
       "Omnibus:                   499208.209   Durbin-Watson:                   2.004\n",
       "Prob(Omnibus):                  0.000   Jarque-Bera (JB):        487080844.616\n",
       "Skew:                           9.417   Prob(JB):                         0.00\n",
       "Kurtosis:                     191.446   Cond. No.                         144.\n",
       "==============================================================================\n",
       "\n",
       "Warnings:\n",
       "[1] Standard Errors assume that the covariance matrix of the errors is correctly specified.\n",
       "\"\"\""
      ]
     },
     "execution_count": 91,
     "metadata": {},
     "output_type": "execute_result"
    }
   ],
   "source": [
    "results.summary()"
   ]
  },
  {
   "cell_type": "code",
   "execution_count": 118,
   "metadata": {},
   "outputs": [],
   "source": [
    "X = np.load(\"/Users/urosmojsilovic/Desktop/ToricIdeals/4-0-5-8/toric-4-0-5-8.npy\", allow_pickle = True)"
   ]
  },
  {
   "cell_type": "code",
   "execution_count": 119,
   "metadata": {},
   "outputs": [],
   "source": [
    "dylansdata2 = pd.read_csv(\"/Users/urosmojsilovic/Desktop/ToricIdeals/4-0-5-8/toric-4-0-5-8_stats.csv\")"
   ]
  },
  {
   "cell_type": "code",
   "execution_count": 120,
   "metadata": {},
   "outputs": [],
   "source": [
    "arr2 = []\n",
    "arr3 = []\n",
    "arr4 = []\n",
    "for i in X:\n",
    "    for j in i:\n",
    "        a = j[0] + j[1] + j[2] + j[3] + j[4] + j[5] + j[6] + j[7]\n",
    "        b = j[8] + j[9] + j[10] + j[11] + j[12] + j[13] + j[14] + j[15]\n",
    "        arr2.append(a)\n",
    "        arr2.append(b)\n",
    "        arr3.append(np.array(arr2))\n",
    "        arr2 = []\n",
    "    arr4.append(np.array(arr3))\n",
    "    arr3 = []"
   ]
  },
  {
   "cell_type": "code",
   "execution_count": 121,
   "metadata": {},
   "outputs": [],
   "source": [
    "arr5 = []\n",
    "arr6 = []\n",
    "for i in arr4:\n",
    "    for j in i:\n",
    "        arr5.append(j[0])\n",
    "    arr6.append(np.array(arr5))\n",
    "    arr5 = []"
   ]
  },
  {
   "cell_type": "code",
   "execution_count": 122,
   "metadata": {},
   "outputs": [],
   "source": [
    "arr7 = []\n",
    "for i in arr6: \n",
    "    arr7.append(np.mean(i))"
   ]
  },
  {
   "cell_type": "code",
   "execution_count": 123,
   "metadata": {},
   "outputs": [],
   "source": [
    "arr8 = []\n",
    "for i in arr6:\n",
    "    arr8.append(np.amin(i))"
   ]
  },
  {
   "cell_type": "code",
   "execution_count": 124,
   "metadata": {},
   "outputs": [],
   "source": [
    "arr10 = []\n",
    "for i in arr6:\n",
    "    arr10.append(np.amax(i))\n",
    "            "
   ]
  },
  {
   "cell_type": "code",
   "execution_count": 125,
   "metadata": {},
   "outputs": [],
   "source": [
    "dylansdata2[\"MinDeg\"] = arr7"
   ]
  },
  {
   "cell_type": "code",
   "execution_count": 126,
   "metadata": {},
   "outputs": [],
   "source": [
    "dylansdata2[\"MaxDeg\"] = arr10"
   ]
  },
  {
   "cell_type": "code",
   "execution_count": 128,
   "metadata": {},
   "outputs": [],
   "source": [
    "dylansdata2[\"MeanDeg\"] = arr8"
   ]
  },
  {
   "cell_type": "code",
   "execution_count": 129,
   "metadata": {},
   "outputs": [],
   "source": [
    "import statsmodels.api as sm\n",
    "#Multiple linear regression on the sample data, and we pull coefficients \n",
    "X = dylansdata2[[\"MaxDeg\", \"MinDeg\", \"MeanDeg\"]]\n",
    "Y = dylansdata2[\"Regularity\"]\n",
    "X  = sm.add_constant(X)\n",
    "\n",
    "model = sm.OLS(Y, X)\n",
    "results = model.fit()"
   ]
  },
  {
   "cell_type": "code",
   "execution_count": 130,
   "metadata": {},
   "outputs": [
    {
     "data": {
      "text/html": [
       "<table class=\"simpletable\">\n",
       "<caption>OLS Regression Results</caption>\n",
       "<tr>\n",
       "  <th>Dep. Variable:</th>       <td>Regularity</td>    <th>  R-squared:         </th>  <td>   0.474</td>  \n",
       "</tr>\n",
       "<tr>\n",
       "  <th>Model:</th>                   <td>OLS</td>       <th>  Adj. R-squared:    </th>  <td>   0.474</td>  \n",
       "</tr>\n",
       "<tr>\n",
       "  <th>Method:</th>             <td>Least Squares</td>  <th>  F-statistic:       </th>  <td>9.468e+04</td> \n",
       "</tr>\n",
       "<tr>\n",
       "  <th>Date:</th>             <td>Wed, 31 Mar 2021</td> <th>  Prob (F-statistic):</th>   <td>  0.00</td>   \n",
       "</tr>\n",
       "<tr>\n",
       "  <th>Time:</th>                 <td>22:13:10</td>     <th>  Log-Likelihood:    </th> <td>-1.1471e+06</td>\n",
       "</tr>\n",
       "<tr>\n",
       "  <th>No. Observations:</th>      <td>314688</td>      <th>  AIC:               </th>  <td>2.294e+06</td> \n",
       "</tr>\n",
       "<tr>\n",
       "  <th>Df Residuals:</th>          <td>314684</td>      <th>  BIC:               </th>  <td>2.294e+06</td> \n",
       "</tr>\n",
       "<tr>\n",
       "  <th>Df Model:</th>              <td>     3</td>      <th>                     </th>      <td> </td>     \n",
       "</tr>\n",
       "<tr>\n",
       "  <th>Covariance Type:</th>      <td>nonrobust</td>    <th>                     </th>      <td> </td>     \n",
       "</tr>\n",
       "</table>\n",
       "<table class=\"simpletable\">\n",
       "<tr>\n",
       "     <td></td>        <th>coef</th>     <th>std err</th>      <th>t</th>      <th>P>|t|</th>  <th>[0.025</th>    <th>0.975]</th>  \n",
       "</tr>\n",
       "<tr>\n",
       "  <th>const</th>   <td>    0.5745</td> <td>    0.075</td> <td>    7.670</td> <td> 0.000</td> <td>    0.428</td> <td>    0.721</td>\n",
       "</tr>\n",
       "<tr>\n",
       "  <th>MaxDeg</th>  <td>    0.6403</td> <td>    0.003</td> <td>  212.082</td> <td> 0.000</td> <td>    0.634</td> <td>    0.646</td>\n",
       "</tr>\n",
       "<tr>\n",
       "  <th>MinDeg</th>  <td>    0.9226</td> <td>    0.010</td> <td>   90.660</td> <td> 0.000</td> <td>    0.903</td> <td>    0.943</td>\n",
       "</tr>\n",
       "<tr>\n",
       "  <th>MeanDeg</th> <td>    1.4596</td> <td>    0.022</td> <td>   66.301</td> <td> 0.000</td> <td>    1.416</td> <td>    1.503</td>\n",
       "</tr>\n",
       "</table>\n",
       "<table class=\"simpletable\">\n",
       "<tr>\n",
       "  <th>Omnibus:</th>       <td>301039.932</td> <th>  Durbin-Watson:     </th>   <td>   1.996</td>  \n",
       "</tr>\n",
       "<tr>\n",
       "  <th>Prob(Omnibus):</th>   <td> 0.000</td>   <th>  Jarque-Bera (JB):  </th> <td>21787173.487</td>\n",
       "</tr>\n",
       "<tr>\n",
       "  <th>Skew:</th>            <td> 4.526</td>   <th>  Prob(JB):          </th>   <td>    0.00</td>  \n",
       "</tr>\n",
       "<tr>\n",
       "  <th>Kurtosis:</th>        <td>42.745</td>   <th>  Cond. No.          </th>   <td>    92.6</td>  \n",
       "</tr>\n",
       "</table><br/><br/>Warnings:<br/>[1] Standard Errors assume that the covariance matrix of the errors is correctly specified."
      ],
      "text/plain": [
       "<class 'statsmodels.iolib.summary.Summary'>\n",
       "\"\"\"\n",
       "                            OLS Regression Results                            \n",
       "==============================================================================\n",
       "Dep. Variable:             Regularity   R-squared:                       0.474\n",
       "Model:                            OLS   Adj. R-squared:                  0.474\n",
       "Method:                 Least Squares   F-statistic:                 9.468e+04\n",
       "Date:                Wed, 31 Mar 2021   Prob (F-statistic):               0.00\n",
       "Time:                        22:13:10   Log-Likelihood:            -1.1471e+06\n",
       "No. Observations:              314688   AIC:                         2.294e+06\n",
       "Df Residuals:                  314684   BIC:                         2.294e+06\n",
       "Df Model:                           3                                         \n",
       "Covariance Type:            nonrobust                                         \n",
       "==============================================================================\n",
       "                 coef    std err          t      P>|t|      [0.025      0.975]\n",
       "------------------------------------------------------------------------------\n",
       "const          0.5745      0.075      7.670      0.000       0.428       0.721\n",
       "MaxDeg         0.6403      0.003    212.082      0.000       0.634       0.646\n",
       "MinDeg         0.9226      0.010     90.660      0.000       0.903       0.943\n",
       "MeanDeg        1.4596      0.022     66.301      0.000       1.416       1.503\n",
       "==============================================================================\n",
       "Omnibus:                   301039.932   Durbin-Watson:                   1.996\n",
       "Prob(Omnibus):                  0.000   Jarque-Bera (JB):         21787173.487\n",
       "Skew:                           4.526   Prob(JB):                         0.00\n",
       "Kurtosis:                      42.745   Cond. No.                         92.6\n",
       "==============================================================================\n",
       "\n",
       "Warnings:\n",
       "[1] Standard Errors assume that the covariance matrix of the errors is correctly specified.\n",
       "\"\"\""
      ]
     },
     "execution_count": 130,
     "metadata": {},
     "output_type": "execute_result"
    }
   ],
   "source": [
    "results.summary()"
   ]
  },
  {
   "cell_type": "code",
   "execution_count": 131,
   "metadata": {},
   "outputs": [],
   "source": [
    "X = np.load(\"/Users/urosmojsilovic/Desktop/ToricIdeals/2-0-5-8/toric-2-0-5-8.npy\", allow_pickle = True)"
   ]
  },
  {
   "cell_type": "code",
   "execution_count": 132,
   "metadata": {},
   "outputs": [],
   "source": [
    "arr2 = []\n",
    "arr3 = []\n",
    "arr4 = []\n",
    "for i in X:\n",
    "    for j in i:\n",
    "        a = j[0] + j[1] + j[2] + j[3] + j[4] + j[5] + j[6] + j[7]\n",
    "        b = j[8] + j[9] + j[10] + j[11] + j[12] + j[13] + j[14] + j[15]\n",
    "        arr2.append(a)\n",
    "        arr2.append(b)\n",
    "        arr3.append(np.array(arr2))\n",
    "        arr2 = []\n",
    "    arr4.append(np.array(arr3))\n",
    "    arr3 = []"
   ]
  },
  {
   "cell_type": "code",
   "execution_count": 133,
   "metadata": {},
   "outputs": [],
   "source": [
    "arr5 = []\n",
    "arr6 = []\n",
    "for i in arr4:\n",
    "    for j in i:\n",
    "        arr5.append(j[0])\n",
    "    arr6.append(np.array(arr5))\n",
    "    arr5 = []"
   ]
  },
  {
   "cell_type": "code",
   "execution_count": 134,
   "metadata": {},
   "outputs": [],
   "source": [
    "arr7 = []\n",
    "for i in arr6: \n",
    "    arr7.append(np.mean(i))"
   ]
  },
  {
   "cell_type": "code",
   "execution_count": 135,
   "metadata": {},
   "outputs": [],
   "source": [
    "arr8 = []\n",
    "for i in arr6:\n",
    "    arr8.append(np.amin(i))"
   ]
  },
  {
   "cell_type": "code",
   "execution_count": 136,
   "metadata": {},
   "outputs": [],
   "source": [
    "arr10 = []\n",
    "for i in arr6:\n",
    "    arr10.append(np.amax(i))"
   ]
  },
  {
   "cell_type": "code",
   "execution_count": 137,
   "metadata": {},
   "outputs": [],
   "source": [
    "dylansdata3 = pd.read_csv(\"/Users/urosmojsilovic/Desktop/ToricIdeals/2-0-5-8/toric-2-0-5-8_stats.csv\")"
   ]
  },
  {
   "cell_type": "code",
   "execution_count": 237,
   "metadata": {},
   "outputs": [],
   "source": [
    "dylansdata33 = pd.read_csv(\"/Users/urosmojsilovic/Desktop/ToricIdeals/2-0-5-8/toric-2-0-5-8_degree.csv\")"
   ]
  },
  {
   "cell_type": "code",
   "execution_count": 238,
   "metadata": {},
   "outputs": [],
   "source": [
    "dd = dylansdata3.join(dylansdata33)"
   ]
  },
  {
   "cell_type": "code",
   "execution_count": 241,
   "metadata": {},
   "outputs": [],
   "source": [
    "import statsmodels.api as sm\n",
    "#Multiple linear regression on the sample data, and we pull coefficients \n",
    "X = dd[[\"MaxDeg\", \"MinDeg\", \"MeanDeg\"]]\n",
    "Y = dd[\"PolynomialAdditions\"]\n",
    "X  = sm.add_constant(X)\n",
    "\n",
    "model = sm.OLS(Y, X)\n",
    "results = model.fit()"
   ]
  },
  {
   "cell_type": "code",
   "execution_count": 242,
   "metadata": {},
   "outputs": [
    {
     "data": {
      "text/html": [
       "<table class=\"simpletable\">\n",
       "<caption>OLS Regression Results</caption>\n",
       "<tr>\n",
       "  <th>Dep. Variable:</th>    <td>PolynomialAdditions</td> <th>  R-squared:         </th>  <td>   0.204</td>  \n",
       "</tr>\n",
       "<tr>\n",
       "  <th>Model:</th>                    <td>OLS</td>         <th>  Adj. R-squared:    </th>  <td>   0.204</td>  \n",
       "</tr>\n",
       "<tr>\n",
       "  <th>Method:</th>              <td>Least Squares</td>    <th>  F-statistic:       </th>  <td>3.657e+04</td> \n",
       "</tr>\n",
       "<tr>\n",
       "  <th>Date:</th>              <td>Wed, 31 Mar 2021</td>   <th>  Prob (F-statistic):</th>   <td>  0.00</td>   \n",
       "</tr>\n",
       "<tr>\n",
       "  <th>Time:</th>                  <td>22:48:24</td>       <th>  Log-Likelihood:    </th> <td>-2.7571e+06</td>\n",
       "</tr>\n",
       "<tr>\n",
       "  <th>No. Observations:</th>       <td>429093</td>        <th>  AIC:               </th>  <td>5.514e+06</td> \n",
       "</tr>\n",
       "<tr>\n",
       "  <th>Df Residuals:</th>           <td>429089</td>        <th>  BIC:               </th>  <td>5.514e+06</td> \n",
       "</tr>\n",
       "<tr>\n",
       "  <th>Df Model:</th>               <td>     3</td>        <th>                     </th>      <td> </td>     \n",
       "</tr>\n",
       "<tr>\n",
       "  <th>Covariance Type:</th>       <td>nonrobust</td>      <th>                     </th>      <td> </td>     \n",
       "</tr>\n",
       "</table>\n",
       "<table class=\"simpletable\">\n",
       "<tr>\n",
       "     <td></td>        <th>coef</th>     <th>std err</th>      <th>t</th>      <th>P>|t|</th>  <th>[0.025</th>    <th>0.975]</th>  \n",
       "</tr>\n",
       "<tr>\n",
       "  <th>const</th>   <td>   -8.5889</td> <td>    2.789</td> <td>   -3.079</td> <td> 0.002</td> <td>  -14.056</td> <td>   -3.122</td>\n",
       "</tr>\n",
       "<tr>\n",
       "  <th>MaxDeg</th>  <td>   -1.2292</td> <td>    0.344</td> <td>   -3.571</td> <td> 0.000</td> <td>   -1.904</td> <td>   -0.554</td>\n",
       "</tr>\n",
       "<tr>\n",
       "  <th>MinDeg</th>  <td>  150.1479</td> <td>    0.796</td> <td>  188.640</td> <td> 0.000</td> <td>  148.588</td> <td>  151.708</td>\n",
       "</tr>\n",
       "<tr>\n",
       "  <th>MeanDeg</th> <td>  -17.3114</td> <td>    1.461</td> <td>  -11.849</td> <td> 0.000</td> <td>  -20.175</td> <td>  -14.448</td>\n",
       "</tr>\n",
       "</table>\n",
       "<table class=\"simpletable\">\n",
       "<tr>\n",
       "  <th>Omnibus:</th>       <td>231180.179</td> <th>  Durbin-Watson:     </th>  <td>   2.002</td>  \n",
       "</tr>\n",
       "<tr>\n",
       "  <th>Prob(Omnibus):</th>   <td> 0.000</td>   <th>  Jarque-Bera (JB):  </th> <td>6405683.886</td>\n",
       "</tr>\n",
       "<tr>\n",
       "  <th>Skew:</th>            <td> 2.057</td>   <th>  Prob(JB):          </th>  <td>    0.00</td>  \n",
       "</tr>\n",
       "<tr>\n",
       "  <th>Kurtosis:</th>        <td>21.476</td>   <th>  Cond. No.          </th>  <td>    80.2</td>  \n",
       "</tr>\n",
       "</table><br/><br/>Warnings:<br/>[1] Standard Errors assume that the covariance matrix of the errors is correctly specified."
      ],
      "text/plain": [
       "<class 'statsmodels.iolib.summary.Summary'>\n",
       "\"\"\"\n",
       "                             OLS Regression Results                            \n",
       "===============================================================================\n",
       "Dep. Variable:     PolynomialAdditions   R-squared:                       0.204\n",
       "Model:                             OLS   Adj. R-squared:                  0.204\n",
       "Method:                  Least Squares   F-statistic:                 3.657e+04\n",
       "Date:                 Wed, 31 Mar 2021   Prob (F-statistic):               0.00\n",
       "Time:                         22:48:24   Log-Likelihood:            -2.7571e+06\n",
       "No. Observations:               429093   AIC:                         5.514e+06\n",
       "Df Residuals:                   429089   BIC:                         5.514e+06\n",
       "Df Model:                            3                                         \n",
       "Covariance Type:             nonrobust                                         \n",
       "==============================================================================\n",
       "                 coef    std err          t      P>|t|      [0.025      0.975]\n",
       "------------------------------------------------------------------------------\n",
       "const         -8.5889      2.789     -3.079      0.002     -14.056      -3.122\n",
       "MaxDeg        -1.2292      0.344     -3.571      0.000      -1.904      -0.554\n",
       "MinDeg       150.1479      0.796    188.640      0.000     148.588     151.708\n",
       "MeanDeg      -17.3114      1.461    -11.849      0.000     -20.175     -14.448\n",
       "==============================================================================\n",
       "Omnibus:                   231180.179   Durbin-Watson:                   2.002\n",
       "Prob(Omnibus):                  0.000   Jarque-Bera (JB):          6405683.886\n",
       "Skew:                           2.057   Prob(JB):                         0.00\n",
       "Kurtosis:                      21.476   Cond. No.                         80.2\n",
       "==============================================================================\n",
       "\n",
       "Warnings:\n",
       "[1] Standard Errors assume that the covariance matrix of the errors is correctly specified.\n",
       "\"\"\""
      ]
     },
     "execution_count": 242,
     "metadata": {},
     "output_type": "execute_result"
    }
   ],
   "source": [
    "results.summary()"
   ]
  },
  {
   "cell_type": "code",
   "execution_count": 142,
   "metadata": {},
   "outputs": [],
   "source": [
    "dylansdata3[\"MinDeg\"] = arr7"
   ]
  },
  {
   "cell_type": "code",
   "execution_count": 139,
   "metadata": {},
   "outputs": [],
   "source": [
    "dylansdata3[\"MaxDeg\"] = arr10"
   ]
  },
  {
   "cell_type": "code",
   "execution_count": 143,
   "metadata": {},
   "outputs": [],
   "source": [
    "dylansdata3[\"MeanDeg\"] = arr8"
   ]
  },
  {
   "cell_type": "code",
   "execution_count": 145,
   "metadata": {},
   "outputs": [],
   "source": [
    "import statsmodels.api as sm\n",
    "#Multiple linear regression on the sample data, and we pull coefficients \n",
    "X = dylansdata3[[\"MaxDeg\", \"MinDeg\", \"MeanDeg\"]]\n",
    "Y = dylansdata3[\"Regularity\"]\n",
    "X  = sm.add_constant(X)\n",
    "\n",
    "model = sm.OLS(Y, X)\n",
    "results = model.fit()"
   ]
  },
  {
   "cell_type": "code",
   "execution_count": 146,
   "metadata": {},
   "outputs": [
    {
     "data": {
      "text/html": [
       "<table class=\"simpletable\">\n",
       "<caption>OLS Regression Results</caption>\n",
       "<tr>\n",
       "  <th>Dep. Variable:</th>       <td>Regularity</td>    <th>  R-squared:         </th>  <td>   0.010</td>  \n",
       "</tr>\n",
       "<tr>\n",
       "  <th>Model:</th>                   <td>OLS</td>       <th>  Adj. R-squared:    </th>  <td>   0.010</td>  \n",
       "</tr>\n",
       "<tr>\n",
       "  <th>Method:</th>             <td>Least Squares</td>  <th>  F-statistic:       </th>  <td>   1475.</td>  \n",
       "</tr>\n",
       "<tr>\n",
       "  <th>Date:</th>             <td>Wed, 31 Mar 2021</td> <th>  Prob (F-statistic):</th>   <td>  0.00</td>   \n",
       "</tr>\n",
       "<tr>\n",
       "  <th>Time:</th>                 <td>22:18:29</td>     <th>  Log-Likelihood:    </th> <td>-1.0054e+06</td>\n",
       "</tr>\n",
       "<tr>\n",
       "  <th>No. Observations:</th>      <td>429093</td>      <th>  AIC:               </th>  <td>2.011e+06</td> \n",
       "</tr>\n",
       "<tr>\n",
       "  <th>Df Residuals:</th>          <td>429089</td>      <th>  BIC:               </th>  <td>2.011e+06</td> \n",
       "</tr>\n",
       "<tr>\n",
       "  <th>Df Model:</th>              <td>     3</td>      <th>                     </th>      <td> </td>     \n",
       "</tr>\n",
       "<tr>\n",
       "  <th>Covariance Type:</th>      <td>nonrobust</td>    <th>                     </th>      <td> </td>     \n",
       "</tr>\n",
       "</table>\n",
       "<table class=\"simpletable\">\n",
       "<tr>\n",
       "     <td></td>        <th>coef</th>     <th>std err</th>      <th>t</th>      <th>P>|t|</th>  <th>[0.025</th>    <th>0.975]</th>  \n",
       "</tr>\n",
       "<tr>\n",
       "  <th>const</th>   <td>    5.5197</td> <td>    0.047</td> <td>  117.331</td> <td> 0.000</td> <td>    5.427</td> <td>    5.612</td>\n",
       "</tr>\n",
       "<tr>\n",
       "  <th>MaxDeg</th>  <td>    0.0881</td> <td>    0.006</td> <td>   15.167</td> <td> 0.000</td> <td>    0.077</td> <td>    0.099</td>\n",
       "</tr>\n",
       "<tr>\n",
       "  <th>MinDeg</th>  <td>    0.3325</td> <td>    0.013</td> <td>   24.771</td> <td> 0.000</td> <td>    0.306</td> <td>    0.359</td>\n",
       "</tr>\n",
       "<tr>\n",
       "  <th>MeanDeg</th> <td>   -0.0751</td> <td>    0.025</td> <td>   -3.049</td> <td> 0.002</td> <td>   -0.123</td> <td>   -0.027</td>\n",
       "</tr>\n",
       "</table>\n",
       "<table class=\"simpletable\">\n",
       "<tr>\n",
       "  <th>Omnibus:</th>       <td>219502.142</td> <th>  Durbin-Watson:     </th>  <td>   2.001</td>  \n",
       "</tr>\n",
       "<tr>\n",
       "  <th>Prob(Omnibus):</th>   <td> 0.000</td>   <th>  Jarque-Bera (JB):  </th> <td>1610905.240</td>\n",
       "</tr>\n",
       "<tr>\n",
       "  <th>Skew:</th>            <td> 2.385</td>   <th>  Prob(JB):          </th>  <td>    0.00</td>  \n",
       "</tr>\n",
       "<tr>\n",
       "  <th>Kurtosis:</th>        <td>11.207</td>   <th>  Cond. No.          </th>  <td>    80.2</td>  \n",
       "</tr>\n",
       "</table><br/><br/>Warnings:<br/>[1] Standard Errors assume that the covariance matrix of the errors is correctly specified."
      ],
      "text/plain": [
       "<class 'statsmodels.iolib.summary.Summary'>\n",
       "\"\"\"\n",
       "                            OLS Regression Results                            \n",
       "==============================================================================\n",
       "Dep. Variable:             Regularity   R-squared:                       0.010\n",
       "Model:                            OLS   Adj. R-squared:                  0.010\n",
       "Method:                 Least Squares   F-statistic:                     1475.\n",
       "Date:                Wed, 31 Mar 2021   Prob (F-statistic):               0.00\n",
       "Time:                        22:18:29   Log-Likelihood:            -1.0054e+06\n",
       "No. Observations:              429093   AIC:                         2.011e+06\n",
       "Df Residuals:                  429089   BIC:                         2.011e+06\n",
       "Df Model:                           3                                         \n",
       "Covariance Type:            nonrobust                                         \n",
       "==============================================================================\n",
       "                 coef    std err          t      P>|t|      [0.025      0.975]\n",
       "------------------------------------------------------------------------------\n",
       "const          5.5197      0.047    117.331      0.000       5.427       5.612\n",
       "MaxDeg         0.0881      0.006     15.167      0.000       0.077       0.099\n",
       "MinDeg         0.3325      0.013     24.771      0.000       0.306       0.359\n",
       "MeanDeg       -0.0751      0.025     -3.049      0.002      -0.123      -0.027\n",
       "==============================================================================\n",
       "Omnibus:                   219502.142   Durbin-Watson:                   2.001\n",
       "Prob(Omnibus):                  0.000   Jarque-Bera (JB):          1610905.240\n",
       "Skew:                           2.385   Prob(JB):                         0.00\n",
       "Kurtosis:                      11.207   Cond. No.                         80.2\n",
       "==============================================================================\n",
       "\n",
       "Warnings:\n",
       "[1] Standard Errors assume that the covariance matrix of the errors is correctly specified.\n",
       "\"\"\""
      ]
     },
     "execution_count": 146,
     "metadata": {},
     "output_type": "execute_result"
    }
   ],
   "source": [
    "results.summary()"
   ]
  },
  {
   "cell_type": "code",
   "execution_count": 147,
   "metadata": {},
   "outputs": [],
   "source": [
    "dylansdata4 = pd.read_csv(\"/Users/urosmojsilovic/Desktop/BinomialIdeals/3-20-4-uniform/3-20-4-uniform_stats.csv\")"
   ]
  },
  {
   "cell_type": "code",
   "execution_count": 148,
   "metadata": {},
   "outputs": [],
   "source": [
    "X = np.load(\"/Users/urosmojsilovic/Desktop/BinomialIdeals/3-20-4-uniform/3-20-4-uniform.npy\", allow_pickle = True)"
   ]
  },
  {
   "cell_type": "code",
   "execution_count": 149,
   "metadata": {},
   "outputs": [],
   "source": [
    "arr2 = []\n",
    "arr3 = []\n",
    "arr4 = []\n",
    "for i in X:\n",
    "    for j in i:\n",
    "        a = j[0] + j[1] + j[2] \n",
    "        b = j[3] + j[4] + j[5] \n",
    "        arr2.append(a)\n",
    "        arr2.append(b)\n",
    "        arr3.append(np.array(arr2))\n",
    "        arr2 = []\n",
    "    arr4.append(np.array(arr3))\n",
    "    arr3 = []"
   ]
  },
  {
   "cell_type": "code",
   "execution_count": 150,
   "metadata": {},
   "outputs": [],
   "source": [
    "arr5 = []\n",
    "arr6 = []\n",
    "for i in arr4:\n",
    "    for j in i:\n",
    "        arr5.append(j[0])\n",
    "    arr6.append(np.array(arr5))\n",
    "    arr5 = []"
   ]
  },
  {
   "cell_type": "code",
   "execution_count": 151,
   "metadata": {},
   "outputs": [],
   "source": [
    "arr7 = []\n",
    "for i in arr6:\n",
    "    arr7.append(np.amin(i))"
   ]
  },
  {
   "cell_type": "code",
   "execution_count": 152,
   "metadata": {},
   "outputs": [],
   "source": [
    "arr8 = []\n",
    "for i in arr6:\n",
    "    arr8.append(np.amax(i))\n",
    "            "
   ]
  },
  {
   "cell_type": "code",
   "execution_count": 153,
   "metadata": {},
   "outputs": [],
   "source": [
    "arr9 = []\n",
    "for i in arr6:\n",
    "    arr9.append(np.mean(i))\n",
    "            "
   ]
  },
  {
   "cell_type": "code",
   "execution_count": 154,
   "metadata": {},
   "outputs": [],
   "source": [
    "dylansdata4[\"MinDeg\"] = arr7 "
   ]
  },
  {
   "cell_type": "code",
   "execution_count": 155,
   "metadata": {},
   "outputs": [],
   "source": [
    "dylansdata4[\"MaxDeg\"] = arr8"
   ]
  },
  {
   "cell_type": "code",
   "execution_count": 156,
   "metadata": {},
   "outputs": [],
   "source": [
    "dylansdata4[\"MeanDeg\"] = arr9"
   ]
  },
  {
   "cell_type": "code",
   "execution_count": 157,
   "metadata": {},
   "outputs": [
    {
     "data": {
      "text/html": [
       "<div>\n",
       "<style scoped>\n",
       "    .dataframe tbody tr th:only-of-type {\n",
       "        vertical-align: middle;\n",
       "    }\n",
       "\n",
       "    .dataframe tbody tr th {\n",
       "        vertical-align: top;\n",
       "    }\n",
       "\n",
       "    .dataframe thead th {\n",
       "        text-align: right;\n",
       "    }\n",
       "</style>\n",
       "<table border=\"1\" class=\"dataframe\">\n",
       "  <thead>\n",
       "    <tr style=\"text-align: right;\">\n",
       "      <th></th>\n",
       "      <th>GroebnerBasis</th>\n",
       "      <th>SizeGroebnerBasis</th>\n",
       "      <th>MaxDegreeGroebnerBasis</th>\n",
       "      <th>Degree</th>\n",
       "      <th>Dimension</th>\n",
       "      <th>Regularity</th>\n",
       "      <th>MinDeg</th>\n",
       "      <th>MaxDeg</th>\n",
       "      <th>MeanDeg</th>\n",
       "    </tr>\n",
       "  </thead>\n",
       "  <tbody>\n",
       "    <tr>\n",
       "      <th>0</th>\n",
       "      <td>a^5*b*c^10+10819*a^3*b^10*c^2|a^7*b^7*c^5-2270...</td>\n",
       "      <td>27</td>\n",
       "      <td>29</td>\n",
       "      <td>1</td>\n",
       "      <td>2</td>\n",
       "      <td>31</td>\n",
       "      <td>16</td>\n",
       "      <td>20</td>\n",
       "      <td>18.75</td>\n",
       "    </tr>\n",
       "    <tr>\n",
       "      <th>1</th>\n",
       "      <td>a*b^10+3583*b^9*c|a^5*c^9-6955*b^10*c^2|b^9*c^...</td>\n",
       "      <td>23</td>\n",
       "      <td>26</td>\n",
       "      <td>53</td>\n",
       "      <td>1</td>\n",
       "      <td>28</td>\n",
       "      <td>11</td>\n",
       "      <td>20</td>\n",
       "      <td>16.00</td>\n",
       "    </tr>\n",
       "    <tr>\n",
       "      <th>2</th>\n",
       "      <td>a*b^4*c^4|a^5*b^5*c^2|a^9*b^4*c^3|a^9*b^2*c^7+...</td>\n",
       "      <td>5</td>\n",
       "      <td>19</td>\n",
       "      <td>4</td>\n",
       "      <td>2</td>\n",
       "      <td>19</td>\n",
       "      <td>15</td>\n",
       "      <td>20</td>\n",
       "      <td>17.25</td>\n",
       "    </tr>\n",
       "    <tr>\n",
       "      <th>3</th>\n",
       "      <td>a^7|a*b*c^8+8218*a^4*b|a^5*b^7*c^2</td>\n",
       "      <td>3</td>\n",
       "      <td>14</td>\n",
       "      <td>1</td>\n",
       "      <td>2</td>\n",
       "      <td>20</td>\n",
       "      <td>10</td>\n",
       "      <td>20</td>\n",
       "      <td>16.00</td>\n",
       "    </tr>\n",
       "    <tr>\n",
       "      <th>4</th>\n",
       "      <td>a^9*b^2+15166*a^6*b^4*c|a^7*b^5*c|a^7*b^3*c^5|...</td>\n",
       "      <td>20</td>\n",
       "      <td>22</td>\n",
       "      <td>4</td>\n",
       "      <td>2</td>\n",
       "      <td>26</td>\n",
       "      <td>11</td>\n",
       "      <td>20</td>\n",
       "      <td>16.25</td>\n",
       "    </tr>\n",
       "  </tbody>\n",
       "</table>\n",
       "</div>"
      ],
      "text/plain": [
       "                                       GroebnerBasis  SizeGroebnerBasis  \\\n",
       "0  a^5*b*c^10+10819*a^3*b^10*c^2|a^7*b^7*c^5-2270...                 27   \n",
       "1  a*b^10+3583*b^9*c|a^5*c^9-6955*b^10*c^2|b^9*c^...                 23   \n",
       "2  a*b^4*c^4|a^5*b^5*c^2|a^9*b^4*c^3|a^9*b^2*c^7+...                  5   \n",
       "3                 a^7|a*b*c^8+8218*a^4*b|a^5*b^7*c^2                  3   \n",
       "4  a^9*b^2+15166*a^6*b^4*c|a^7*b^5*c|a^7*b^3*c^5|...                 20   \n",
       "\n",
       "   MaxDegreeGroebnerBasis  Degree  Dimension  Regularity  MinDeg  MaxDeg  \\\n",
       "0                      29       1          2          31      16      20   \n",
       "1                      26      53          1          28      11      20   \n",
       "2                      19       4          2          19      15      20   \n",
       "3                      14       1          2          20      10      20   \n",
       "4                      22       4          2          26      11      20   \n",
       "\n",
       "   MeanDeg  \n",
       "0    18.75  \n",
       "1    16.00  \n",
       "2    17.25  \n",
       "3    16.00  \n",
       "4    16.25  "
      ]
     },
     "execution_count": 157,
     "metadata": {},
     "output_type": "execute_result"
    }
   ],
   "source": [
    "dylansdata4.head()"
   ]
  },
  {
   "cell_type": "code",
   "execution_count": 158,
   "metadata": {},
   "outputs": [],
   "source": [
    "import statsmodels.api as sm\n",
    "#Multiple linear regression on the sample data, and we pull coefficients \n",
    "X = dylansdata4[[\"MaxDeg\", \"MinDeg\", \"MeanDeg\"]]\n",
    "Y = dylansdata4[\"Regularity\"]\n",
    "X  = sm.add_constant(X)\n",
    "\n",
    "model = sm.OLS(Y, X)\n",
    "results = model.fit()"
   ]
  },
  {
   "cell_type": "code",
   "execution_count": 159,
   "metadata": {},
   "outputs": [
    {
     "data": {
      "text/html": [
       "<table class=\"simpletable\">\n",
       "<caption>OLS Regression Results</caption>\n",
       "<tr>\n",
       "  <th>Dep. Variable:</th>       <td>Regularity</td>    <th>  R-squared:         </th>  <td>   0.135</td>  \n",
       "</tr>\n",
       "<tr>\n",
       "  <th>Model:</th>                   <td>OLS</td>       <th>  Adj. R-squared:    </th>  <td>   0.135</td>  \n",
       "</tr>\n",
       "<tr>\n",
       "  <th>Method:</th>             <td>Least Squares</td>  <th>  F-statistic:       </th>  <td>5.203e+04</td> \n",
       "</tr>\n",
       "<tr>\n",
       "  <th>Date:</th>             <td>Wed, 31 Mar 2021</td> <th>  Prob (F-statistic):</th>   <td>  0.00</td>   \n",
       "</tr>\n",
       "<tr>\n",
       "  <th>Time:</th>                 <td>22:24:34</td>     <th>  Log-Likelihood:    </th> <td>-3.1344e+06</td>\n",
       "</tr>\n",
       "<tr>\n",
       "  <th>No. Observations:</th>      <td>1000000</td>     <th>  AIC:               </th>  <td>6.269e+06</td> \n",
       "</tr>\n",
       "<tr>\n",
       "  <th>Df Residuals:</th>          <td>999996</td>      <th>  BIC:               </th>  <td>6.269e+06</td> \n",
       "</tr>\n",
       "<tr>\n",
       "  <th>Df Model:</th>              <td>     3</td>      <th>                     </th>      <td> </td>     \n",
       "</tr>\n",
       "<tr>\n",
       "  <th>Covariance Type:</th>      <td>nonrobust</td>    <th>                     </th>      <td> </td>     \n",
       "</tr>\n",
       "</table>\n",
       "<table class=\"simpletable\">\n",
       "<tr>\n",
       "     <td></td>        <th>coef</th>     <th>std err</th>      <th>t</th>      <th>P>|t|</th>  <th>[0.025</th>    <th>0.975]</th>  \n",
       "</tr>\n",
       "<tr>\n",
       "  <th>const</th>   <td>   -1.7905</td> <td>    0.136</td> <td>  -13.153</td> <td> 0.000</td> <td>   -2.057</td> <td>   -1.524</td>\n",
       "</tr>\n",
       "<tr>\n",
       "  <th>MaxDeg</th>  <td>   -0.0303</td> <td>    0.009</td> <td>   -3.213</td> <td> 0.001</td> <td>   -0.049</td> <td>   -0.012</td>\n",
       "</tr>\n",
       "<tr>\n",
       "  <th>MinDeg</th>  <td>    0.1301</td> <td>    0.004</td> <td>   30.915</td> <td> 0.000</td> <td>    0.122</td> <td>    0.138</td>\n",
       "</tr>\n",
       "<tr>\n",
       "  <th>MeanDeg</th> <td>    1.3993</td> <td>    0.010</td> <td>  139.214</td> <td> 0.000</td> <td>    1.380</td> <td>    1.419</td>\n",
       "</tr>\n",
       "</table>\n",
       "<table class=\"simpletable\">\n",
       "<tr>\n",
       "  <th>Omnibus:</th>       <td>130618.054</td> <th>  Durbin-Watson:     </th>  <td>   2.002</td> \n",
       "</tr>\n",
       "<tr>\n",
       "  <th>Prob(Omnibus):</th>   <td> 0.000</td>   <th>  Jarque-Bera (JB):  </th> <td>811110.401</td>\n",
       "</tr>\n",
       "<tr>\n",
       "  <th>Skew:</th>            <td>-0.471</td>   <th>  Prob(JB):          </th>  <td>    0.00</td> \n",
       "</tr>\n",
       "<tr>\n",
       "  <th>Kurtosis:</th>        <td> 7.311</td>   <th>  Cond. No.          </th>  <td>    733.</td> \n",
       "</tr>\n",
       "</table><br/><br/>Warnings:<br/>[1] Standard Errors assume that the covariance matrix of the errors is correctly specified."
      ],
      "text/plain": [
       "<class 'statsmodels.iolib.summary.Summary'>\n",
       "\"\"\"\n",
       "                            OLS Regression Results                            \n",
       "==============================================================================\n",
       "Dep. Variable:             Regularity   R-squared:                       0.135\n",
       "Model:                            OLS   Adj. R-squared:                  0.135\n",
       "Method:                 Least Squares   F-statistic:                 5.203e+04\n",
       "Date:                Wed, 31 Mar 2021   Prob (F-statistic):               0.00\n",
       "Time:                        22:24:34   Log-Likelihood:            -3.1344e+06\n",
       "No. Observations:             1000000   AIC:                         6.269e+06\n",
       "Df Residuals:                  999996   BIC:                         6.269e+06\n",
       "Df Model:                           3                                         \n",
       "Covariance Type:            nonrobust                                         \n",
       "==============================================================================\n",
       "                 coef    std err          t      P>|t|      [0.025      0.975]\n",
       "------------------------------------------------------------------------------\n",
       "const         -1.7905      0.136    -13.153      0.000      -2.057      -1.524\n",
       "MaxDeg        -0.0303      0.009     -3.213      0.001      -0.049      -0.012\n",
       "MinDeg         0.1301      0.004     30.915      0.000       0.122       0.138\n",
       "MeanDeg        1.3993      0.010    139.214      0.000       1.380       1.419\n",
       "==============================================================================\n",
       "Omnibus:                   130618.054   Durbin-Watson:                   2.002\n",
       "Prob(Omnibus):                  0.000   Jarque-Bera (JB):           811110.401\n",
       "Skew:                          -0.471   Prob(JB):                         0.00\n",
       "Kurtosis:                       7.311   Cond. No.                         733.\n",
       "==============================================================================\n",
       "\n",
       "Warnings:\n",
       "[1] Standard Errors assume that the covariance matrix of the errors is correctly specified.\n",
       "\"\"\""
      ]
     },
     "execution_count": 159,
     "metadata": {},
     "output_type": "execute_result"
    }
   ],
   "source": [
    "results.summary()"
   ]
  },
  {
   "cell_type": "code",
   "execution_count": 162,
   "metadata": {},
   "outputs": [],
   "source": [
    "dylansdata5 = pd.read_csv(\"/Users/urosmojsilovic/Desktop/BinomialIdeals/3-20-10-weighted/3-20-10-weighted_stats.csv\")"
   ]
  },
  {
   "cell_type": "code",
   "execution_count": 163,
   "metadata": {},
   "outputs": [],
   "source": [
    "X = np.load(\"/Users/urosmojsilovic/Desktop/BinomialIdeals/3-20-10-weighted/3-20-10-weighted.npy\", allow_pickle = True)"
   ]
  },
  {
   "cell_type": "code",
   "execution_count": 166,
   "metadata": {},
   "outputs": [],
   "source": [
    "arr2 = []\n",
    "arr3 = []\n",
    "arr4 = []\n",
    "for i in X:\n",
    "    for j in i:\n",
    "        a = j[0] + j[1] + j[2] \n",
    "        b = j[3] + j[4] + j[5] \n",
    "        arr2.append(a)\n",
    "        arr2.append(b)\n",
    "        arr3.append(np.array(arr2))\n",
    "        arr2 = []\n",
    "    arr4.append(np.array(arr3))\n",
    "    arr3 = []"
   ]
  },
  {
   "cell_type": "code",
   "execution_count": 167,
   "metadata": {},
   "outputs": [],
   "source": [
    "arr5 = []\n",
    "arr6 = []\n",
    "for i in arr4:\n",
    "    for j in i:\n",
    "        arr5.append(j[0])\n",
    "    arr6.append(np.array(arr5))\n",
    "    arr5 = []"
   ]
  },
  {
   "cell_type": "code",
   "execution_count": 168,
   "metadata": {},
   "outputs": [],
   "source": [
    "arr7 = []\n",
    "for i in arr6:\n",
    "    arr7.append(np.amin(i))\n",
    "            "
   ]
  },
  {
   "cell_type": "code",
   "execution_count": 169,
   "metadata": {},
   "outputs": [],
   "source": [
    "arr8 = []\n",
    "for i in arr6:\n",
    "    arr8.append(np.amax(i))\n",
    "            "
   ]
  },
  {
   "cell_type": "code",
   "execution_count": 170,
   "metadata": {},
   "outputs": [],
   "source": [
    "arr9 = []\n",
    "for i in arr6:\n",
    "    arr9.append(np.mean(i))\n",
    "            "
   ]
  },
  {
   "cell_type": "code",
   "execution_count": 171,
   "metadata": {},
   "outputs": [],
   "source": [
    "dylansdata5[\"MinDeg\"] = arr7"
   ]
  },
  {
   "cell_type": "code",
   "execution_count": 172,
   "metadata": {},
   "outputs": [],
   "source": [
    "dylansdata5[\"MaxDeg\"] = arr8"
   ]
  },
  {
   "cell_type": "code",
   "execution_count": 173,
   "metadata": {},
   "outputs": [],
   "source": [
    "dylansdata5[\"MeanDeg\"] = arr9"
   ]
  },
  {
   "cell_type": "code",
   "execution_count": 174,
   "metadata": {},
   "outputs": [
    {
     "data": {
      "text/html": [
       "<div>\n",
       "<style scoped>\n",
       "    .dataframe tbody tr th:only-of-type {\n",
       "        vertical-align: middle;\n",
       "    }\n",
       "\n",
       "    .dataframe tbody tr th {\n",
       "        vertical-align: top;\n",
       "    }\n",
       "\n",
       "    .dataframe thead th {\n",
       "        text-align: right;\n",
       "    }\n",
       "</style>\n",
       "<table border=\"1\" class=\"dataframe\">\n",
       "  <thead>\n",
       "    <tr style=\"text-align: right;\">\n",
       "      <th></th>\n",
       "      <th>GroebnerBasis</th>\n",
       "      <th>SizeGroebnerBasis</th>\n",
       "      <th>MaxDegreeGroebnerBasis</th>\n",
       "      <th>Degree</th>\n",
       "      <th>Dimension</th>\n",
       "      <th>Regularity</th>\n",
       "      <th>MinDeg</th>\n",
       "      <th>MaxDeg</th>\n",
       "      <th>MeanDeg</th>\n",
       "    </tr>\n",
       "  </thead>\n",
       "  <tbody>\n",
       "    <tr>\n",
       "      <th>0</th>\n",
       "      <td>c^3*e^3-a*f^3|a^3*e*g^5*h^5-c^4*d^3*f^6|c^7*d^...</td>\n",
       "      <td>7</td>\n",
       "      <td>40</td>\n",
       "      <td>75</td>\n",
       "      <td>6</td>\n",
       "      <td>40</td>\n",
       "      <td>6</td>\n",
       "      <td>20</td>\n",
       "      <td>14.200000</td>\n",
       "    </tr>\n",
       "    <tr>\n",
       "      <th>1</th>\n",
       "      <td>a*b*c^12*e^3*g-d^3*f^9*h^5|a^3*b^5*d^12-g^18|a...</td>\n",
       "      <td>8</td>\n",
       "      <td>76</td>\n",
       "      <td>344</td>\n",
       "      <td>6</td>\n",
       "      <td>78</td>\n",
       "      <td>18</td>\n",
       "      <td>76</td>\n",
       "      <td>43.000000</td>\n",
       "    </tr>\n",
       "    <tr>\n",
       "      <th>2</th>\n",
       "      <td>c^2*d*f*g^3-a^2*b*h^4|b^3*e^8*g^6-a^4*d^5*f^6|...</td>\n",
       "      <td>7</td>\n",
       "      <td>29</td>\n",
       "      <td>101</td>\n",
       "      <td>6</td>\n",
       "      <td>30</td>\n",
       "      <td>7</td>\n",
       "      <td>29</td>\n",
       "      <td>19.857143</td>\n",
       "    </tr>\n",
       "    <tr>\n",
       "      <th>3</th>\n",
       "      <td>b*c^6*f^3-a^4*e^3*h^2|a^4*e*f^6-b^3*c^2*d^2*h^...</td>\n",
       "      <td>7</td>\n",
       "      <td>29</td>\n",
       "      <td>79</td>\n",
       "      <td>6</td>\n",
       "      <td>30</td>\n",
       "      <td>10</td>\n",
       "      <td>29</td>\n",
       "      <td>17.285714</td>\n",
       "    </tr>\n",
       "    <tr>\n",
       "      <th>4</th>\n",
       "      <td>a^4*b^4*f^3*g^2*h^2-c^2*d^8*e^2|a^3*d^4*e*f^11...</td>\n",
       "      <td>6</td>\n",
       "      <td>41</td>\n",
       "      <td>239</td>\n",
       "      <td>6</td>\n",
       "      <td>46</td>\n",
       "      <td>15</td>\n",
       "      <td>41</td>\n",
       "      <td>25.400000</td>\n",
       "    </tr>\n",
       "  </tbody>\n",
       "</table>\n",
       "</div>"
      ],
      "text/plain": [
       "                                       GroebnerBasis  SizeGroebnerBasis  \\\n",
       "0  c^3*e^3-a*f^3|a^3*e*g^5*h^5-c^4*d^3*f^6|c^7*d^...                  7   \n",
       "1  a*b*c^12*e^3*g-d^3*f^9*h^5|a^3*b^5*d^12-g^18|a...                  8   \n",
       "2  c^2*d*f*g^3-a^2*b*h^4|b^3*e^8*g^6-a^4*d^5*f^6|...                  7   \n",
       "3  b*c^6*f^3-a^4*e^3*h^2|a^4*e*f^6-b^3*c^2*d^2*h^...                  7   \n",
       "4  a^4*b^4*f^3*g^2*h^2-c^2*d^8*e^2|a^3*d^4*e*f^11...                  6   \n",
       "\n",
       "   MaxDegreeGroebnerBasis  Degree  Dimension  Regularity  MinDeg  MaxDeg  \\\n",
       "0                      40      75          6          40       6      20   \n",
       "1                      76     344          6          78      18      76   \n",
       "2                      29     101          6          30       7      29   \n",
       "3                      29      79          6          30      10      29   \n",
       "4                      41     239          6          46      15      41   \n",
       "\n",
       "     MeanDeg  \n",
       "0  14.200000  \n",
       "1  43.000000  \n",
       "2  19.857143  \n",
       "3  17.285714  \n",
       "4  25.400000  "
      ]
     },
     "execution_count": 174,
     "metadata": {},
     "output_type": "execute_result"
    }
   ],
   "source": [
    "dylansdata.head()"
   ]
  },
  {
   "cell_type": "code",
   "execution_count": 175,
   "metadata": {},
   "outputs": [],
   "source": [
    "import statsmodels.api as sm\n",
    "#Multiple linear regression on the sample data, and we pull coefficients \n",
    "X = dylansdata5[[\"MaxDeg\", \"MinDeg\", \"MeanDeg\"]]\n",
    "Y = dylansdata5[\"Regularity\"]\n",
    "X  = sm.add_constant(X)\n",
    "\n",
    "model = sm.OLS(Y, X)\n",
    "results = model.fit()"
   ]
  },
  {
   "cell_type": "code",
   "execution_count": 176,
   "metadata": {},
   "outputs": [
    {
     "data": {
      "text/html": [
       "<table class=\"simpletable\">\n",
       "<caption>OLS Regression Results</caption>\n",
       "<tr>\n",
       "  <th>Dep. Variable:</th>       <td>Regularity</td>    <th>  R-squared:         </th>  <td>   0.087</td>  \n",
       "</tr>\n",
       "<tr>\n",
       "  <th>Model:</th>                   <td>OLS</td>       <th>  Adj. R-squared:    </th>  <td>   0.087</td>  \n",
       "</tr>\n",
       "<tr>\n",
       "  <th>Method:</th>             <td>Least Squares</td>  <th>  F-statistic:       </th>  <td>3.177e+04</td> \n",
       "</tr>\n",
       "<tr>\n",
       "  <th>Date:</th>             <td>Wed, 31 Mar 2021</td> <th>  Prob (F-statistic):</th>   <td>  0.00</td>   \n",
       "</tr>\n",
       "<tr>\n",
       "  <th>Time:</th>                 <td>22:28:48</td>     <th>  Log-Likelihood:    </th> <td>-3.1889e+06</td>\n",
       "</tr>\n",
       "<tr>\n",
       "  <th>No. Observations:</th>      <td>1000000</td>     <th>  AIC:               </th>  <td>6.378e+06</td> \n",
       "</tr>\n",
       "<tr>\n",
       "  <th>Df Residuals:</th>          <td>999996</td>      <th>  BIC:               </th>  <td>6.378e+06</td> \n",
       "</tr>\n",
       "<tr>\n",
       "  <th>Df Model:</th>              <td>     3</td>      <th>                     </th>      <td> </td>     \n",
       "</tr>\n",
       "<tr>\n",
       "  <th>Covariance Type:</th>      <td>nonrobust</td>    <th>                     </th>      <td> </td>     \n",
       "</tr>\n",
       "</table>\n",
       "<table class=\"simpletable\">\n",
       "<tr>\n",
       "     <td></td>        <th>coef</th>     <th>std err</th>      <th>t</th>      <th>P>|t|</th>  <th>[0.025</th>    <th>0.975]</th>  \n",
       "</tr>\n",
       "<tr>\n",
       "  <th>const</th>   <td>   -1.0373</td> <td>    0.132</td> <td>   -7.861</td> <td> 0.000</td> <td>   -1.296</td> <td>   -0.779</td>\n",
       "</tr>\n",
       "<tr>\n",
       "  <th>MaxDeg</th>  <td>   -0.1449</td> <td>    0.008</td> <td>  -19.140</td> <td> 0.000</td> <td>   -0.160</td> <td>   -0.130</td>\n",
       "</tr>\n",
       "<tr>\n",
       "  <th>MinDeg</th>  <td>    0.3742</td> <td>    0.003</td> <td>  134.370</td> <td> 0.000</td> <td>    0.369</td> <td>    0.380</td>\n",
       "</tr>\n",
       "<tr>\n",
       "  <th>MeanDeg</th> <td>    0.7089</td> <td>    0.005</td> <td>  129.472</td> <td> 0.000</td> <td>    0.698</td> <td>    0.720</td>\n",
       "</tr>\n",
       "</table>\n",
       "<table class=\"simpletable\">\n",
       "<tr>\n",
       "  <th>Omnibus:</th>       <td>57952.654</td> <th>  Durbin-Watson:     </th> <td>   1.998</td> \n",
       "</tr>\n",
       "<tr>\n",
       "  <th>Prob(Omnibus):</th>  <td> 0.000</td>   <th>  Jarque-Bera (JB):  </th> <td>67826.318</td>\n",
       "</tr>\n",
       "<tr>\n",
       "  <th>Skew:</th>           <td> 0.631</td>   <th>  Prob(JB):          </th> <td>    0.00</td> \n",
       "</tr>\n",
       "<tr>\n",
       "  <th>Kurtosis:</th>       <td> 2.818</td>   <th>  Cond. No.          </th> <td>    555.</td> \n",
       "</tr>\n",
       "</table><br/><br/>Warnings:<br/>[1] Standard Errors assume that the covariance matrix of the errors is correctly specified."
      ],
      "text/plain": [
       "<class 'statsmodels.iolib.summary.Summary'>\n",
       "\"\"\"\n",
       "                            OLS Regression Results                            \n",
       "==============================================================================\n",
       "Dep. Variable:             Regularity   R-squared:                       0.087\n",
       "Model:                            OLS   Adj. R-squared:                  0.087\n",
       "Method:                 Least Squares   F-statistic:                 3.177e+04\n",
       "Date:                Wed, 31 Mar 2021   Prob (F-statistic):               0.00\n",
       "Time:                        22:28:48   Log-Likelihood:            -3.1889e+06\n",
       "No. Observations:             1000000   AIC:                         6.378e+06\n",
       "Df Residuals:                  999996   BIC:                         6.378e+06\n",
       "Df Model:                           3                                         \n",
       "Covariance Type:            nonrobust                                         \n",
       "==============================================================================\n",
       "                 coef    std err          t      P>|t|      [0.025      0.975]\n",
       "------------------------------------------------------------------------------\n",
       "const         -1.0373      0.132     -7.861      0.000      -1.296      -0.779\n",
       "MaxDeg        -0.1449      0.008    -19.140      0.000      -0.160      -0.130\n",
       "MinDeg         0.3742      0.003    134.370      0.000       0.369       0.380\n",
       "MeanDeg        0.7089      0.005    129.472      0.000       0.698       0.720\n",
       "==============================================================================\n",
       "Omnibus:                    57952.654   Durbin-Watson:                   1.998\n",
       "Prob(Omnibus):                  0.000   Jarque-Bera (JB):            67826.318\n",
       "Skew:                           0.631   Prob(JB):                         0.00\n",
       "Kurtosis:                       2.818   Cond. No.                         555.\n",
       "==============================================================================\n",
       "\n",
       "Warnings:\n",
       "[1] Standard Errors assume that the covariance matrix of the errors is correctly specified.\n",
       "\"\"\""
      ]
     },
     "execution_count": 176,
     "metadata": {},
     "output_type": "execute_result"
    }
   ],
   "source": [
    "results.summary()"
   ]
  },
  {
   "cell_type": "code",
   "execution_count": 187,
   "metadata": {},
   "outputs": [],
   "source": [
    "dylansdata6 = pd.read_csv(\"/Users/urosmojsilovic/Desktop/BinomialIdeals/3-20-4-weighted/3-20-4-weighted_stats.csv\")"
   ]
  },
  {
   "cell_type": "code",
   "execution_count": 178,
   "metadata": {},
   "outputs": [],
   "source": [
    "X = np.load(\"/Users/urosmojsilovic/Desktop/BinomialIdeals/3-20-4-weighted/3-20-4-weighted.npy\", allow_pickle = True)"
   ]
  },
  {
   "cell_type": "code",
   "execution_count": 179,
   "metadata": {},
   "outputs": [],
   "source": [
    "arr2 = []\n",
    "arr3 = []\n",
    "arr4 = []\n",
    "for i in X:\n",
    "    for j in i:\n",
    "        a = j[0] + j[1] + j[2] \n",
    "        b = j[3] + j[4] + j[5] \n",
    "        arr2.append(a)\n",
    "        arr2.append(b)\n",
    "        arr3.append(np.array(arr2))\n",
    "        arr2 = []\n",
    "    arr4.append(np.array(arr3))\n",
    "    arr3 = []"
   ]
  },
  {
   "cell_type": "code",
   "execution_count": 180,
   "metadata": {},
   "outputs": [],
   "source": [
    "arr5 = []\n",
    "arr6 = []\n",
    "for i in arr4:\n",
    "    for j in i:\n",
    "        arr5.append(j[0])\n",
    "    arr6.append(np.array(arr5))\n",
    "    arr5 = []"
   ]
  },
  {
   "cell_type": "code",
   "execution_count": 181,
   "metadata": {},
   "outputs": [],
   "source": [
    "arr7 = []\n",
    "for i in arr6:\n",
    "    arr7.append(np.amin(i))\n",
    "            "
   ]
  },
  {
   "cell_type": "code",
   "execution_count": 182,
   "metadata": {},
   "outputs": [],
   "source": [
    "arr8 = []\n",
    "for i in arr6:\n",
    "    arr8.append(np.amax(i))\n",
    "            "
   ]
  },
  {
   "cell_type": "code",
   "execution_count": 183,
   "metadata": {},
   "outputs": [],
   "source": [
    "arr9 = []\n",
    "for i in arr6:\n",
    "    arr9.append(np.mean(i))\n",
    "            "
   ]
  },
  {
   "cell_type": "code",
   "execution_count": 188,
   "metadata": {},
   "outputs": [],
   "source": [
    "dylansdata6[\"MinDeg\"] = arr7"
   ]
  },
  {
   "cell_type": "code",
   "execution_count": 189,
   "metadata": {},
   "outputs": [],
   "source": [
    "dylansdata6[\"MaxDeg\"] = arr8"
   ]
  },
  {
   "cell_type": "code",
   "execution_count": 191,
   "metadata": {},
   "outputs": [],
   "source": [
    "dylansdata6[\"MeanDeg\"] = arr9"
   ]
  },
  {
   "cell_type": "code",
   "execution_count": 193,
   "metadata": {},
   "outputs": [
    {
     "data": {
      "text/html": [
       "<div>\n",
       "<style scoped>\n",
       "    .dataframe tbody tr th:only-of-type {\n",
       "        vertical-align: middle;\n",
       "    }\n",
       "\n",
       "    .dataframe tbody tr th {\n",
       "        vertical-align: top;\n",
       "    }\n",
       "\n",
       "    .dataframe thead th {\n",
       "        text-align: right;\n",
       "    }\n",
       "</style>\n",
       "<table border=\"1\" class=\"dataframe\">\n",
       "  <thead>\n",
       "    <tr style=\"text-align: right;\">\n",
       "      <th></th>\n",
       "      <th>GroebnerBasis</th>\n",
       "      <th>SizeGroebnerBasis</th>\n",
       "      <th>MaxDegreeGroebnerBasis</th>\n",
       "      <th>Degree</th>\n",
       "      <th>Dimension</th>\n",
       "      <th>Regularity</th>\n",
       "      <th>MinDeg</th>\n",
       "      <th>MaxDeg</th>\n",
       "      <th>MeanDeg</th>\n",
       "    </tr>\n",
       "  </thead>\n",
       "  <tbody>\n",
       "    <tr>\n",
       "      <th>0</th>\n",
       "      <td>a^3*c^7+10819*b^8|a^4*b^7*c^5-2270*a^6*b^9|a^6...</td>\n",
       "      <td>28</td>\n",
       "      <td>25</td>\n",
       "      <td>46</td>\n",
       "      <td>1</td>\n",
       "      <td>28</td>\n",
       "      <td>10</td>\n",
       "      <td>20</td>\n",
       "      <td>16.25</td>\n",
       "    </tr>\n",
       "    <tr>\n",
       "      <th>1</th>\n",
       "      <td>a*b^3*c^2|a*b^5|a*b^2*c^4|a^4*b*c^2-10544*a*b*...</td>\n",
       "      <td>7</td>\n",
       "      <td>14</td>\n",
       "      <td>1</td>\n",
       "      <td>2</td>\n",
       "      <td>16</td>\n",
       "      <td>7</td>\n",
       "      <td>14</td>\n",
       "      <td>10.50</td>\n",
       "    </tr>\n",
       "    <tr>\n",
       "      <th>2</th>\n",
       "      <td>b^3*c^2|a^4*b</td>\n",
       "      <td>2</td>\n",
       "      <td>5</td>\n",
       "      <td>1</td>\n",
       "      <td>2</td>\n",
       "      <td>8</td>\n",
       "      <td>10</td>\n",
       "      <td>20</td>\n",
       "      <td>13.50</td>\n",
       "    </tr>\n",
       "    <tr>\n",
       "      <th>3</th>\n",
       "      <td>a</td>\n",
       "      <td>1</td>\n",
       "      <td>1</td>\n",
       "      <td>1</td>\n",
       "      <td>2</td>\n",
       "      <td>1</td>\n",
       "      <td>4</td>\n",
       "      <td>19</td>\n",
       "      <td>12.75</td>\n",
       "    </tr>\n",
       "    <tr>\n",
       "      <th>4</th>\n",
       "      <td>a^2*b|a^4+15166*b^4|b^5</td>\n",
       "      <td>3</td>\n",
       "      <td>5</td>\n",
       "      <td>12</td>\n",
       "      <td>1</td>\n",
       "      <td>6</td>\n",
       "      <td>4</td>\n",
       "      <td>19</td>\n",
       "      <td>13.00</td>\n",
       "    </tr>\n",
       "  </tbody>\n",
       "</table>\n",
       "</div>"
      ],
      "text/plain": [
       "                                       GroebnerBasis  SizeGroebnerBasis  \\\n",
       "0  a^3*c^7+10819*b^8|a^4*b^7*c^5-2270*a^6*b^9|a^6...                 28   \n",
       "1  a*b^3*c^2|a*b^5|a*b^2*c^4|a^4*b*c^2-10544*a*b*...                  7   \n",
       "2                                      b^3*c^2|a^4*b                  2   \n",
       "3                                                  a                  1   \n",
       "4                            a^2*b|a^4+15166*b^4|b^5                  3   \n",
       "\n",
       "   MaxDegreeGroebnerBasis  Degree  Dimension  Regularity  MinDeg  MaxDeg  \\\n",
       "0                      25      46          1          28      10      20   \n",
       "1                      14       1          2          16       7      14   \n",
       "2                       5       1          2           8      10      20   \n",
       "3                       1       1          2           1       4      19   \n",
       "4                       5      12          1           6       4      19   \n",
       "\n",
       "   MeanDeg  \n",
       "0    16.25  \n",
       "1    10.50  \n",
       "2    13.50  \n",
       "3    12.75  \n",
       "4    13.00  "
      ]
     },
     "execution_count": 193,
     "metadata": {},
     "output_type": "execute_result"
    }
   ],
   "source": [
    "dylansdata6.head()"
   ]
  },
  {
   "cell_type": "code",
   "execution_count": 194,
   "metadata": {},
   "outputs": [],
   "source": [
    "import statsmodels.api as sm\n",
    "#Multiple linear regression on the sample data, and we pull coefficients \n",
    "X = dylansdata6[[\"MaxDeg\", \"MinDeg\", \"MeanDeg\"]]\n",
    "Y = dylansdata6[\"Regularity\"]\n",
    "X  = sm.add_constant(X)\n",
    "\n",
    "model = sm.OLS(Y, X)\n",
    "results = model.fit()"
   ]
  },
  {
   "cell_type": "code",
   "execution_count": 195,
   "metadata": {},
   "outputs": [
    {
     "data": {
      "text/html": [
       "<table class=\"simpletable\">\n",
       "<caption>OLS Regression Results</caption>\n",
       "<tr>\n",
       "  <th>Dep. Variable:</th>       <td>Regularity</td>    <th>  R-squared:         </th>  <td>   0.130</td>  \n",
       "</tr>\n",
       "<tr>\n",
       "  <th>Model:</th>                   <td>OLS</td>       <th>  Adj. R-squared:    </th>  <td>   0.130</td>  \n",
       "</tr>\n",
       "<tr>\n",
       "  <th>Method:</th>             <td>Least Squares</td>  <th>  F-statistic:       </th>  <td>4.980e+04</td> \n",
       "</tr>\n",
       "<tr>\n",
       "  <th>Date:</th>             <td>Wed, 31 Mar 2021</td> <th>  Prob (F-statistic):</th>   <td>  0.00</td>   \n",
       "</tr>\n",
       "<tr>\n",
       "  <th>Time:</th>                 <td>22:33:35</td>     <th>  Log-Likelihood:    </th> <td>-3.3385e+06</td>\n",
       "</tr>\n",
       "<tr>\n",
       "  <th>No. Observations:</th>      <td>1000000</td>     <th>  AIC:               </th>  <td>6.677e+06</td> \n",
       "</tr>\n",
       "<tr>\n",
       "  <th>Df Residuals:</th>          <td>999996</td>      <th>  BIC:               </th>  <td>6.677e+06</td> \n",
       "</tr>\n",
       "<tr>\n",
       "  <th>Df Model:</th>              <td>     3</td>      <th>                     </th>      <td> </td>     \n",
       "</tr>\n",
       "<tr>\n",
       "  <th>Covariance Type:</th>      <td>nonrobust</td>    <th>                     </th>      <td> </td>     \n",
       "</tr>\n",
       "</table>\n",
       "<table class=\"simpletable\">\n",
       "<tr>\n",
       "     <td></td>        <th>coef</th>     <th>std err</th>      <th>t</th>      <th>P>|t|</th>  <th>[0.025</th>    <th>0.975]</th>  \n",
       "</tr>\n",
       "<tr>\n",
       "  <th>const</th>   <td>    0.1624</td> <td>    0.063</td> <td>    2.560</td> <td> 0.010</td> <td>    0.038</td> <td>    0.287</td>\n",
       "</tr>\n",
       "<tr>\n",
       "  <th>MaxDeg</th>  <td>   -0.1206</td> <td>    0.005</td> <td>  -23.343</td> <td> 0.000</td> <td>   -0.131</td> <td>   -0.110</td>\n",
       "</tr>\n",
       "<tr>\n",
       "  <th>MinDeg</th>  <td>    0.2024</td> <td>    0.003</td> <td>   59.656</td> <td> 0.000</td> <td>    0.196</td> <td>    0.209</td>\n",
       "</tr>\n",
       "<tr>\n",
       "  <th>MeanDeg</th> <td>    0.9008</td> <td>    0.007</td> <td>  134.120</td> <td> 0.000</td> <td>    0.888</td> <td>    0.914</td>\n",
       "</tr>\n",
       "</table>\n",
       "<table class=\"simpletable\">\n",
       "<tr>\n",
       "  <th>Omnibus:</th>       <td>19036.116</td> <th>  Durbin-Watson:     </th> <td>   1.999</td> \n",
       "</tr>\n",
       "<tr>\n",
       "  <th>Prob(Omnibus):</th>  <td> 0.000</td>   <th>  Jarque-Bera (JB):  </th> <td>11145.505</td>\n",
       "</tr>\n",
       "<tr>\n",
       "  <th>Skew:</th>           <td>-0.089</td>   <th>  Prob(JB):          </th> <td>    0.00</td> \n",
       "</tr>\n",
       "<tr>\n",
       "  <th>Kurtosis:</th>       <td> 2.514</td>   <th>  Cond. No.          </th> <td>    230.</td> \n",
       "</tr>\n",
       "</table><br/><br/>Warnings:<br/>[1] Standard Errors assume that the covariance matrix of the errors is correctly specified."
      ],
      "text/plain": [
       "<class 'statsmodels.iolib.summary.Summary'>\n",
       "\"\"\"\n",
       "                            OLS Regression Results                            \n",
       "==============================================================================\n",
       "Dep. Variable:             Regularity   R-squared:                       0.130\n",
       "Model:                            OLS   Adj. R-squared:                  0.130\n",
       "Method:                 Least Squares   F-statistic:                 4.980e+04\n",
       "Date:                Wed, 31 Mar 2021   Prob (F-statistic):               0.00\n",
       "Time:                        22:33:35   Log-Likelihood:            -3.3385e+06\n",
       "No. Observations:             1000000   AIC:                         6.677e+06\n",
       "Df Residuals:                  999996   BIC:                         6.677e+06\n",
       "Df Model:                           3                                         \n",
       "Covariance Type:            nonrobust                                         \n",
       "==============================================================================\n",
       "                 coef    std err          t      P>|t|      [0.025      0.975]\n",
       "------------------------------------------------------------------------------\n",
       "const          0.1624      0.063      2.560      0.010       0.038       0.287\n",
       "MaxDeg        -0.1206      0.005    -23.343      0.000      -0.131      -0.110\n",
       "MinDeg         0.2024      0.003     59.656      0.000       0.196       0.209\n",
       "MeanDeg        0.9008      0.007    134.120      0.000       0.888       0.914\n",
       "==============================================================================\n",
       "Omnibus:                    19036.116   Durbin-Watson:                   1.999\n",
       "Prob(Omnibus):                  0.000   Jarque-Bera (JB):            11145.505\n",
       "Skew:                          -0.089   Prob(JB):                         0.00\n",
       "Kurtosis:                       2.514   Cond. No.                         230.\n",
       "==============================================================================\n",
       "\n",
       "Warnings:\n",
       "[1] Standard Errors assume that the covariance matrix of the errors is correctly specified.\n",
       "\"\"\""
      ]
     },
     "execution_count": 195,
     "metadata": {},
     "output_type": "execute_result"
    }
   ],
   "source": [
    "results.summary()"
   ]
  },
  {
   "cell_type": "code",
   "execution_count": 161,
   "metadata": {},
   "outputs": [],
   "source": [
    "dylansdata1 = pd.read_csv(\"/Users/urosmojsilovic/Desktop/BinomialIdeals/3-20-10-uniform/3-20-10-uniform_stats.csv\")"
   ]
  },
  {
   "cell_type": "code",
   "execution_count": 64,
   "metadata": {},
   "outputs": [],
   "source": [
    "X = np.load(\"/Users/urosmojsilovic/Desktop/BinomialIdeals/3-20-10-uniform/3-20-10-uniform.npy\", allow_pickle = True)"
   ]
  },
  {
   "cell_type": "code",
   "execution_count": 66,
   "metadata": {},
   "outputs": [],
   "source": [
    "arr2 = []\n",
    "arr3 = []\n",
    "arr4 = []\n",
    "for i in X:\n",
    "    for j in i:\n",
    "        a = j[0] + j[1] + j[2] \n",
    "        b = j[3] + j[4] + j[5] \n",
    "        arr2.append(a)\n",
    "        arr2.append(b)\n",
    "        arr3.append(np.array(arr2))\n",
    "        arr2 = []\n",
    "    arr4.append(np.array(arr3))\n",
    "    arr3 = []"
   ]
  },
  {
   "cell_type": "code",
   "execution_count": 67,
   "metadata": {},
   "outputs": [],
   "source": [
    "arr5 = []\n",
    "arr6 = []\n",
    "for i in arr4:\n",
    "    for j in i:\n",
    "        arr5.append(j[0])\n",
    "    arr6.append(np.array(arr5))\n",
    "    arr5 = []"
   ]
  },
  {
   "cell_type": "code",
   "execution_count": 68,
   "metadata": {},
   "outputs": [],
   "source": [
    "arr7 = []\n",
    "for i in arr6:\n",
    "    arr7.append(np.amin(i))\n",
    "            "
   ]
  },
  {
   "cell_type": "code",
   "execution_count": 69,
   "metadata": {},
   "outputs": [],
   "source": [
    "arr8 = []\n",
    "for i in arr6:\n",
    "    arr8.append(np.amax(i))\n",
    "            "
   ]
  },
  {
   "cell_type": "code",
   "execution_count": 70,
   "metadata": {},
   "outputs": [],
   "source": [
    "arr9 = []\n",
    "for i in arr6:\n",
    "    arr9.append(np.mean(i))\n",
    "            "
   ]
  },
  {
   "cell_type": "code",
   "execution_count": 71,
   "metadata": {},
   "outputs": [],
   "source": [
    "dylansdata1[\"MinDeg\"] = arr7"
   ]
  },
  {
   "cell_type": "code",
   "execution_count": 72,
   "metadata": {},
   "outputs": [],
   "source": [
    "dylansdata1[\"MaxDeg\"] = arr8"
   ]
  },
  {
   "cell_type": "code",
   "execution_count": 73,
   "metadata": {},
   "outputs": [],
   "source": [
    "dylansdata1[\"MeanDeg\"] = arr9"
   ]
  },
  {
   "cell_type": "code",
   "execution_count": 74,
   "metadata": {},
   "outputs": [
    {
     "data": {
      "text/html": [
       "<div>\n",
       "<style scoped>\n",
       "    .dataframe tbody tr th:only-of-type {\n",
       "        vertical-align: middle;\n",
       "    }\n",
       "\n",
       "    .dataframe tbody tr th {\n",
       "        vertical-align: top;\n",
       "    }\n",
       "\n",
       "    .dataframe thead th {\n",
       "        text-align: right;\n",
       "    }\n",
       "</style>\n",
       "<table border=\"1\" class=\"dataframe\">\n",
       "  <thead>\n",
       "    <tr style=\"text-align: right;\">\n",
       "      <th></th>\n",
       "      <th>GroebnerBasis</th>\n",
       "      <th>SizeGroebnerBasis</th>\n",
       "      <th>MaxDegreeGroebnerBasis</th>\n",
       "      <th>Degree</th>\n",
       "      <th>Dimension</th>\n",
       "      <th>Regularity</th>\n",
       "      <th>MinDeg</th>\n",
       "      <th>MaxDeg</th>\n",
       "      <th>MeanDeg</th>\n",
       "    </tr>\n",
       "  </thead>\n",
       "  <tbody>\n",
       "    <tr>\n",
       "      <th>0</th>\n",
       "      <td>a*b^10+3583*b^9*c|a^5*c^9-6955*b^10*c^2|b^9*c^...</td>\n",
       "      <td>21</td>\n",
       "      <td>21</td>\n",
       "      <td>26</td>\n",
       "      <td>1</td>\n",
       "      <td>25</td>\n",
       "      <td>11</td>\n",
       "      <td>20</td>\n",
       "      <td>17.5</td>\n",
       "    </tr>\n",
       "    <tr>\n",
       "      <th>1</th>\n",
       "      <td>a^7|a^4*b^4|a*b^4*c^4|a*b*c^8+8218*a^4*b|a^5*b...</td>\n",
       "      <td>8</td>\n",
       "      <td>20</td>\n",
       "      <td>1</td>\n",
       "      <td>2</td>\n",
       "      <td>23</td>\n",
       "      <td>10</td>\n",
       "      <td>20</td>\n",
       "      <td>16.2</td>\n",
       "    </tr>\n",
       "    <tr>\n",
       "      <th>2</th>\n",
       "      <td>b*c^2|a^4*c^7|a^5*c^6|a^9*b^6+13666*a^4*c^5|a^...</td>\n",
       "      <td>5</td>\n",
       "      <td>16</td>\n",
       "      <td>33</td>\n",
       "      <td>1</td>\n",
       "      <td>20</td>\n",
       "      <td>15</td>\n",
       "      <td>20</td>\n",
       "      <td>17.8</td>\n",
       "    </tr>\n",
       "    <tr>\n",
       "      <th>3</th>\n",
       "      <td>a^5*c^4|a^8*b^2|a^4*c^7|b^4*c^8+882*a^4*c^4|a^...</td>\n",
       "      <td>10</td>\n",
       "      <td>17</td>\n",
       "      <td>26</td>\n",
       "      <td>1</td>\n",
       "      <td>22</td>\n",
       "      <td>12</td>\n",
       "      <td>20</td>\n",
       "      <td>17.4</td>\n",
       "    </tr>\n",
       "    <tr>\n",
       "      <th>4</th>\n",
       "      <td>a^2*c^2|b^5|a*b^4|a*b^3*c^11+14896*b^4|a^17*b</td>\n",
       "      <td>5</td>\n",
       "      <td>18</td>\n",
       "      <td>10</td>\n",
       "      <td>1</td>\n",
       "      <td>21</td>\n",
       "      <td>12</td>\n",
       "      <td>20</td>\n",
       "      <td>17.4</td>\n",
       "    </tr>\n",
       "  </tbody>\n",
       "</table>\n",
       "</div>"
      ],
      "text/plain": [
       "                                       GroebnerBasis  SizeGroebnerBasis  \\\n",
       "0  a*b^10+3583*b^9*c|a^5*c^9-6955*b^10*c^2|b^9*c^...                 21   \n",
       "1  a^7|a^4*b^4|a*b^4*c^4|a*b*c^8+8218*a^4*b|a^5*b...                  8   \n",
       "2  b*c^2|a^4*c^7|a^5*c^6|a^9*b^6+13666*a^4*c^5|a^...                  5   \n",
       "3  a^5*c^4|a^8*b^2|a^4*c^7|b^4*c^8+882*a^4*c^4|a^...                 10   \n",
       "4      a^2*c^2|b^5|a*b^4|a*b^3*c^11+14896*b^4|a^17*b                  5   \n",
       "\n",
       "   MaxDegreeGroebnerBasis  Degree  Dimension  Regularity  MinDeg  MaxDeg  \\\n",
       "0                      21      26          1          25      11      20   \n",
       "1                      20       1          2          23      10      20   \n",
       "2                      16      33          1          20      15      20   \n",
       "3                      17      26          1          22      12      20   \n",
       "4                      18      10          1          21      12      20   \n",
       "\n",
       "   MeanDeg  \n",
       "0     17.5  \n",
       "1     16.2  \n",
       "2     17.8  \n",
       "3     17.4  \n",
       "4     17.4  "
      ]
     },
     "execution_count": 74,
     "metadata": {},
     "output_type": "execute_result"
    }
   ],
   "source": [
    "dylansdata1.head()"
   ]
  },
  {
   "cell_type": "code",
   "execution_count": 75,
   "metadata": {},
   "outputs": [],
   "source": [
    "import statsmodels.api as sm\n",
    "#Multiple linear regression on the sample data, and we pull coefficients \n",
    "X = dylansdata1[[\"MaxDeg\", \"MinDeg\", \"MeanDeg\"]]\n",
    "Y = dylansdata1[\"Regularity\"]\n",
    "X  = sm.add_constant(X)\n",
    "\n",
    "model = sm.OLS(Y, X)\n",
    "results = model.fit()"
   ]
  },
  {
   "cell_type": "code",
   "execution_count": 76,
   "metadata": {},
   "outputs": [
    {
     "data": {
      "text/html": [
       "<table class=\"simpletable\">\n",
       "<caption>OLS Regression Results</caption>\n",
       "<tr>\n",
       "  <th>Dep. Variable:</th>       <td>Regularity</td>    <th>  R-squared:         </th>  <td>   0.093</td>  \n",
       "</tr>\n",
       "<tr>\n",
       "  <th>Model:</th>                   <td>OLS</td>       <th>  Adj. R-squared:    </th>  <td>   0.093</td>  \n",
       "</tr>\n",
       "<tr>\n",
       "  <th>Method:</th>             <td>Least Squares</td>  <th>  F-statistic:       </th>  <td>3.408e+04</td> \n",
       "</tr>\n",
       "<tr>\n",
       "  <th>Date:</th>             <td>Wed, 31 Mar 2021</td> <th>  Prob (F-statistic):</th>   <td>  0.00</td>   \n",
       "</tr>\n",
       "<tr>\n",
       "  <th>Time:</th>                 <td>22:03:14</td>     <th>  Log-Likelihood:    </th> <td>-2.9447e+06</td>\n",
       "</tr>\n",
       "<tr>\n",
       "  <th>No. Observations:</th>      <td>1000000</td>     <th>  AIC:               </th>  <td>5.889e+06</td> \n",
       "</tr>\n",
       "<tr>\n",
       "  <th>Df Residuals:</th>          <td>999996</td>      <th>  BIC:               </th>  <td>5.889e+06</td> \n",
       "</tr>\n",
       "<tr>\n",
       "  <th>Df Model:</th>              <td>     3</td>      <th>                     </th>      <td> </td>     \n",
       "</tr>\n",
       "<tr>\n",
       "  <th>Covariance Type:</th>      <td>nonrobust</td>    <th>                     </th>      <td> </td>     \n",
       "</tr>\n",
       "</table>\n",
       "<table class=\"simpletable\">\n",
       "<tr>\n",
       "     <td></td>        <th>coef</th>     <th>std err</th>      <th>t</th>      <th>P>|t|</th>  <th>[0.025</th>    <th>0.975]</th>  \n",
       "</tr>\n",
       "<tr>\n",
       "  <th>const</th>   <td>   -2.5542</td> <td>    0.354</td> <td>   -7.216</td> <td> 0.000</td> <td>   -3.248</td> <td>   -1.860</td>\n",
       "</tr>\n",
       "<tr>\n",
       "  <th>MaxDeg</th>  <td>   -0.0682</td> <td>    0.019</td> <td>   -3.657</td> <td> 0.000</td> <td>   -0.105</td> <td>   -0.032</td>\n",
       "</tr>\n",
       "<tr>\n",
       "  <th>MinDeg</th>  <td>    0.1502</td> <td>    0.002</td> <td>   60.207</td> <td> 0.000</td> <td>    0.145</td> <td>    0.155</td>\n",
       "</tr>\n",
       "<tr>\n",
       "  <th>MeanDeg</th> <td>    1.3813</td> <td>    0.008</td> <td>  177.601</td> <td> 0.000</td> <td>    1.366</td> <td>    1.397</td>\n",
       "</tr>\n",
       "</table>\n",
       "<table class=\"simpletable\">\n",
       "<tr>\n",
       "  <th>Omnibus:</th>       <td>123130.354</td> <th>  Durbin-Watson:     </th>  <td>   2.000</td> \n",
       "</tr>\n",
       "<tr>\n",
       "  <th>Prob(Omnibus):</th>   <td> 0.000</td>   <th>  Jarque-Bera (JB):  </th> <td>344068.854</td>\n",
       "</tr>\n",
       "<tr>\n",
       "  <th>Skew:</th>            <td>-0.679</td>   <th>  Prob(JB):          </th>  <td>    0.00</td> \n",
       "</tr>\n",
       "<tr>\n",
       "  <th>Kurtosis:</th>        <td> 5.533</td>   <th>  Cond. No.          </th>  <td>2.25e+03</td> \n",
       "</tr>\n",
       "</table><br/><br/>Warnings:<br/>[1] Standard Errors assume that the covariance matrix of the errors is correctly specified.<br/>[2] The condition number is large, 2.25e+03. This might indicate that there are<br/>strong multicollinearity or other numerical problems."
      ],
      "text/plain": [
       "<class 'statsmodels.iolib.summary.Summary'>\n",
       "\"\"\"\n",
       "                            OLS Regression Results                            \n",
       "==============================================================================\n",
       "Dep. Variable:             Regularity   R-squared:                       0.093\n",
       "Model:                            OLS   Adj. R-squared:                  0.093\n",
       "Method:                 Least Squares   F-statistic:                 3.408e+04\n",
       "Date:                Wed, 31 Mar 2021   Prob (F-statistic):               0.00\n",
       "Time:                        22:03:14   Log-Likelihood:            -2.9447e+06\n",
       "No. Observations:             1000000   AIC:                         5.889e+06\n",
       "Df Residuals:                  999996   BIC:                         5.889e+06\n",
       "Df Model:                           3                                         \n",
       "Covariance Type:            nonrobust                                         \n",
       "==============================================================================\n",
       "                 coef    std err          t      P>|t|      [0.025      0.975]\n",
       "------------------------------------------------------------------------------\n",
       "const         -2.5542      0.354     -7.216      0.000      -3.248      -1.860\n",
       "MaxDeg        -0.0682      0.019     -3.657      0.000      -0.105      -0.032\n",
       "MinDeg         0.1502      0.002     60.207      0.000       0.145       0.155\n",
       "MeanDeg        1.3813      0.008    177.601      0.000       1.366       1.397\n",
       "==============================================================================\n",
       "Omnibus:                   123130.354   Durbin-Watson:                   2.000\n",
       "Prob(Omnibus):                  0.000   Jarque-Bera (JB):           344068.854\n",
       "Skew:                          -0.679   Prob(JB):                         0.00\n",
       "Kurtosis:                       5.533   Cond. No.                     2.25e+03\n",
       "==============================================================================\n",
       "\n",
       "Warnings:\n",
       "[1] Standard Errors assume that the covariance matrix of the errors is correctly specified.\n",
       "[2] The condition number is large, 2.25e+03. This might indicate that there are\n",
       "strong multicollinearity or other numerical problems.\n",
       "\"\"\""
      ]
     },
     "execution_count": 76,
     "metadata": {},
     "output_type": "execute_result"
    }
   ],
   "source": [
    "results.summary()"
   ]
  },
  {
   "cell_type": "code",
   "execution_count": null,
   "metadata": {},
   "outputs": [],
   "source": []
  }
 ],
 "metadata": {
  "kernelspec": {
   "display_name": "Python 3",
   "language": "python",
   "name": "python3"
  },
  "language_info": {
   "codemirror_mode": {
    "name": "ipython",
    "version": 3
   },
   "file_extension": ".py",
   "mimetype": "text/x-python",
   "name": "python",
   "nbconvert_exporter": "python",
   "pygments_lexer": "ipython3",
   "version": "3.8.3"
  }
 },
 "nbformat": 4,
 "nbformat_minor": 4
}
